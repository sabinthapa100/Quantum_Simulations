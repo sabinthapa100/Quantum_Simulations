{
  "nbformat": 4,
  "nbformat_minor": 0,
  "metadata": {
    "colab": {
      "provenance": [],
      "collapsed_sections": [
        "SjJ77OPVTxg3",
        "nFLUrpxTiHfI",
        "2p1YhA6FiH8g",
        "vbFzqzdHmFBt",
        "rylMdQQKn05T",
        "_FTg-Autn1Xg",
        "mzXzjtWEoOU7",
        "3dV_VCdnuNfz",
        "CTuxHC7BVlMJ",
        "FAvBIgPxi6z-",
        "FVYwhUjawB0Z"
      ],
      "authorship_tag": "ABX9TyNk35wmYLL0EZKKxJ3gx/U/",
      "include_colab_link": true
    },
    "kernelspec": {
      "name": "python3",
      "display_name": "Python 3"
    },
    "language_info": {
      "name": "python"
    }
  },
  "cells": [
    {
      "cell_type": "markdown",
      "metadata": {
        "id": "view-in-github",
        "colab_type": "text"
      },
      "source": [
        "<a href=\"https://colab.research.google.com/github/sabinthapa100/Quantum_Computing/blob/main/Quantum_Teleportation_using_Quantum_Entanglement.ipynb\" target=\"_parent\"><img src=\"https://colab.research.google.com/assets/colab-badge.svg\" alt=\"Open In Colab\"/></a>"
      ]
    },
    {
      "cell_type": "markdown",
      "metadata": {
        "id": "zjSS7J6SMZcS"
      },
      "source": [
        "# Using Entanglement For [Quantum Teleportation](https://www.ryanlarose.com/uploads/1/1/5/8/115879647/quic02.pdf) in Qiskit\n",
        "\n",
        "# [Entanglement](https://arxiv.org/abs/quant-ph/0603060)\n",
        "\n",
        "Entanglement is a quantum mechanical phenomenon in which two or more qubits can become linked in a way that their states become dependent on each other. This allows quantum computers to perform certain types of calculations that are not possible with classical computers. \n",
        "\n",
        "Entanglement occurs in two or more Hilbert spaces and is not possible on vectors(kets) of the same Hilbert space.\n",
        "\n",
        "Entanglement is a key ingredient in the quantum teleportation protocol, as it allows for the transfer of quantum information between two distant qubits.\n"
      ]
    },
    {
      "cell_type": "markdown",
      "source": [
        "## [Quantum Teleportation](https://arxiv.org/abs/quant-ph/9906110)\n",
        "\n",
        "Quantum teleportation is a protocol that allows the state of a qubit to be transferred from one location to another **without the physical transfer of the qubit itself**. Entanglement is a key ingredient in this protocol, as it allows for the transfer of quantum information between two distant qubits.\n",
        "\n",
        "\n",
        "More refs: [ref1](https://journals.aps.org/pra/pdf/10.1103/PhysRevA.58.4394?casa_token=kMU5TMvwfkYAAAAA%3Avs21c23AvxSnnUCliFV3l_MWBCZ8vAsXVrXz2V1uGJ8yesnECFzDF56dDOeSY1awszdzttAM5OyBFoQ), [ref2](https://arxiv.org/abs/quant-ph/0302030)"
      ],
      "metadata": {
        "id": "SjJ77OPVTxg3"
      }
    },
    {
      "cell_type": "markdown",
      "source": [
        "## [Steps in Quantum Teleportation](https://learn.qiskit.org/course/ch-algorithms/quantum-teleportation)\n",
        "\n",
        "To understand quantum teleportation, let's consider **a famous but Quantum** Nepali example of **Ram, Shyam and Hari** --- \"Hari wants to send a gift (**a quantum gift** - a quantum state $𝝭$  that are entangled, and are held in **Ram's lab** and **Shyam's lab**). \n",
        "\n",
        "### Actually, *Ram and Shyam* are \"**Mits (मित): their qubit states are entangled (one is from Rara, another is from Solu), quantum-lly**!\"\n",
        "\n",
        " **Hari** can send his gift $𝝭$ from **Rara** that is **Ram's lab: like quantum- telephone booth that prepares** to **Shyam's lab: quantum telephone booth** *quantum-mechanically* -- using their strength: **entanglement (मित)** -- the process is called **Quantum Teleportation**!\n",
        "\n",
        "The process involves following steps (in detail with mathematics and circuit/code/explaination involved)!"
      ],
      "metadata": {
        "id": "nFLUrpxTiHfI"
      }
    },
    {
      "cell_type": "markdown",
      "source": [
        "**First of all, let's prepare ourselves for quantum setup!!!**\n",
        "\n",
        "Nothing to be memorized!!!\n",
        "\n",
        "Let's import all the libraries needed for this task!!!\n",
        "\n"
      ],
      "metadata": {
        "id": "geEDq-W0mHco"
      }
    },
    {
      "cell_type": "code",
      "source": [
        "#install qiskit \n",
        "!pip install qiskit\n",
        "\n",
        "#from qiskit, import all the needed libraries\n",
        "from qiskit import QuantumCircuit, transpile, QuantumRegister, ClassicalRegister, execute, Aer, IBMQ, BasicAer\n",
        "from qiskit.tools.jupyter import *\n",
        "from qiskit.visualization import *\n",
        "from qiskit.visualization import plot_histogram\n",
        "from qiskit.circuit.random import random_circuit\n",
        "from qiskit.quantum_info import Statevector, partial_trace, state_fidelity\n",
        "\n",
        "import numpy as np\n",
        "import math\n",
        "\n",
        "from qiskit.quantum_info import Statevector\n",
        "from qiskit.visualization import plot_bloch_multivector\n",
        "\n",
        "from qiskit.visualization import visualize_transition # We will use this function to run our circuit and visualize its final state\n",
        "\n",
        "from numpy.random import randint\n",
        "from random import random\n",
        "import matplotlib.pyplot as plt\n",
        "import math\n",
        "\n",
        "\n",
        "import warnings  # We are using this library to suppress some warning messages\n",
        "warnings.filterwarnings(\"ignore\")\n",
        "\n",
        "#provider = IBMQ.load_account()\n",
        "\n",
        "print(\"Libraries Imported Successfully!\")"
      ],
      "metadata": {
        "colab": {
          "base_uri": "https://localhost:8080/"
        },
        "id": "VMSJWb3NmRdy",
        "outputId": "db582292-c135-42ab-bee9-8023367fceb2"
      },
      "execution_count": null,
      "outputs": [
        {
          "output_type": "stream",
          "name": "stdout",
          "text": [
            "Looking in indexes: https://pypi.org/simple, https://us-python.pkg.dev/colab-wheels/public/simple/\n",
            "Requirement already satisfied: qiskit in /usr/local/lib/python3.9/dist-packages (0.42.1)\n",
            "Requirement already satisfied: qiskit-ibmq-provider==0.20.2 in /usr/local/lib/python3.9/dist-packages (from qiskit) (0.20.2)\n",
            "Requirement already satisfied: qiskit-aer==0.12.0 in /usr/local/lib/python3.9/dist-packages (from qiskit) (0.12.0)\n",
            "Requirement already satisfied: qiskit-terra==0.23.3 in /usr/local/lib/python3.9/dist-packages (from qiskit) (0.23.3)\n",
            "Requirement already satisfied: numpy>=1.16.3 in /usr/local/lib/python3.9/dist-packages (from qiskit-aer==0.12.0->qiskit) (1.22.4)\n",
            "Requirement already satisfied: scipy>=1.0 in /usr/local/lib/python3.9/dist-packages (from qiskit-aer==0.12.0->qiskit) (1.10.1)\n",
            "Requirement already satisfied: requests>=2.19 in /usr/local/lib/python3.9/dist-packages (from qiskit-ibmq-provider==0.20.2->qiskit) (2.27.1)\n",
            "Requirement already satisfied: urllib3>=1.21.1 in /usr/local/lib/python3.9/dist-packages (from qiskit-ibmq-provider==0.20.2->qiskit) (1.26.15)\n",
            "Requirement already satisfied: websocket-client>=1.5.1 in /usr/local/lib/python3.9/dist-packages (from qiskit-ibmq-provider==0.20.2->qiskit) (1.5.1)\n",
            "Requirement already satisfied: requests-ntlm<=1.1.0 in /usr/local/lib/python3.9/dist-packages (from qiskit-ibmq-provider==0.20.2->qiskit) (1.1.0)\n",
            "Requirement already satisfied: websockets>=10.0 in /usr/local/lib/python3.9/dist-packages (from qiskit-ibmq-provider==0.20.2->qiskit) (11.0.1)\n",
            "Requirement already satisfied: python-dateutil>=2.8.0 in /usr/local/lib/python3.9/dist-packages (from qiskit-ibmq-provider==0.20.2->qiskit) (2.8.2)\n",
            "Requirement already satisfied: stevedore>=3.0.0 in /usr/local/lib/python3.9/dist-packages (from qiskit-terra==0.23.3->qiskit) (5.0.0)\n",
            "Requirement already satisfied: sympy>=1.3 in /usr/local/lib/python3.9/dist-packages (from qiskit-terra==0.23.3->qiskit) (1.11.1)\n",
            "Requirement already satisfied: rustworkx>=0.12.0 in /usr/local/lib/python3.9/dist-packages (from qiskit-terra==0.23.3->qiskit) (0.12.1)\n",
            "Requirement already satisfied: psutil>=5 in /usr/local/lib/python3.9/dist-packages (from qiskit-terra==0.23.3->qiskit) (5.9.4)\n",
            "Requirement already satisfied: symengine>=0.9 in /usr/local/lib/python3.9/dist-packages (from qiskit-terra==0.23.3->qiskit) (0.10.0)\n",
            "Requirement already satisfied: dill>=0.3 in /usr/local/lib/python3.9/dist-packages (from qiskit-terra==0.23.3->qiskit) (0.3.6)\n",
            "Requirement already satisfied: ply>=3.10 in /usr/local/lib/python3.9/dist-packages (from qiskit-terra==0.23.3->qiskit) (3.11)\n",
            "Requirement already satisfied: six>=1.5 in /usr/local/lib/python3.9/dist-packages (from python-dateutil>=2.8.0->qiskit-ibmq-provider==0.20.2->qiskit) (1.16.0)\n",
            "Requirement already satisfied: certifi>=2017.4.17 in /usr/local/lib/python3.9/dist-packages (from requests>=2.19->qiskit-ibmq-provider==0.20.2->qiskit) (2022.12.7)\n",
            "Requirement already satisfied: charset-normalizer~=2.0.0 in /usr/local/lib/python3.9/dist-packages (from requests>=2.19->qiskit-ibmq-provider==0.20.2->qiskit) (2.0.12)\n",
            "Requirement already satisfied: idna<4,>=2.5 in /usr/local/lib/python3.9/dist-packages (from requests>=2.19->qiskit-ibmq-provider==0.20.2->qiskit) (3.4)\n",
            "Requirement already satisfied: ntlm-auth>=1.0.2 in /usr/local/lib/python3.9/dist-packages (from requests-ntlm<=1.1.0->qiskit-ibmq-provider==0.20.2->qiskit) (1.5.0)\n",
            "Requirement already satisfied: cryptography>=1.3 in /usr/local/lib/python3.9/dist-packages (from requests-ntlm<=1.1.0->qiskit-ibmq-provider==0.20.2->qiskit) (40.0.1)\n",
            "Requirement already satisfied: pbr!=2.1.0,>=2.0.0 in /usr/local/lib/python3.9/dist-packages (from stevedore>=3.0.0->qiskit-terra==0.23.3->qiskit) (5.11.1)\n",
            "Requirement already satisfied: mpmath>=0.19 in /usr/local/lib/python3.9/dist-packages (from sympy>=1.3->qiskit-terra==0.23.3->qiskit) (1.3.0)\n",
            "Requirement already satisfied: cffi>=1.12 in /usr/local/lib/python3.9/dist-packages (from cryptography>=1.3->requests-ntlm<=1.1.0->qiskit-ibmq-provider==0.20.2->qiskit) (1.15.1)\n",
            "Requirement already satisfied: pycparser in /usr/local/lib/python3.9/dist-packages (from cffi>=1.12->cryptography>=1.3->requests-ntlm<=1.1.0->qiskit-ibmq-provider==0.20.2->qiskit) (2.21)\n",
            "Libraries Imported Successfully!\n"
          ]
        }
      ]
    },
    {
      "cell_type": "markdown",
      "source": [
        "### Step 1:\n",
        "\n",
        "Ram and Shyam share **a Bell pair** (**entanglement (मित)को चिनारी बेल**)!"
      ],
      "metadata": {
        "id": "2p1YhA6FiH8g"
      }
    },
    {
      "cell_type": "code",
      "source": [
        "# Let's prepare 3 qubits and 3 classical bit circuit\n",
        "\n",
        "qc = QuantumCircuit(3,3)\n",
        "\n",
        "#where,\n",
        "# q0 = 𝝭 = Hari's gift for Shyam, sending from Ram's lab\n",
        "# q1 = Ram's qubit (tool to send Hari's gift - to Shyam!!!!) - in Ram's quantum booth!!!\n",
        "# q2 = Shyam's qubit - in Shyam's quantum booth (receives the gift 𝝭)!!!\n",
        "\n",
        "# Mits (मित)'s qubits need to be entangled (by using their quantum strength - \n",
        "# yes - Nepal can also have it! ;-))\n",
        "qc.h(1)\n",
        "qc.cx(1,2)\n",
        "\n",
        "\n",
        "#making a barrier and seeing the circuit\n",
        "qc.barrier()\n",
        "qc.draw()"
      ],
      "metadata": {
        "colab": {
          "base_uri": "https://localhost:8080/"
        },
        "id": "S7carf5-mfj_",
        "outputId": "e92bb4eb-6340-4f20-e021-d7db7b9abcc9"
      },
      "execution_count": null,
      "outputs": [
        {
          "output_type": "execute_result",
          "data": {
            "text/plain": [
              "                ░ \n",
              "q_0: ───────────░─\n",
              "     ┌───┐      ░ \n",
              "q_1: ┤ H ├──■───░─\n",
              "     └───┘┌─┴─┐ ░ \n",
              "q_2: ─────┤ X ├─░─\n",
              "          └───┘ ░ \n",
              "c: 3/═════════════\n",
              "                  "
            ],
            "text/html": [
              "<pre style=\"word-wrap: normal;white-space: pre;background: #fff0;line-height: 1.1;font-family: &quot;Courier New&quot;,Courier,monospace\">                ░ \n",
              "q_0: ───────────░─\n",
              "     ┌───┐      ░ \n",
              "q_1: ┤ H ├──■───░─\n",
              "     └───┘┌─┴─┐ ░ \n",
              "q_2: ─────┤ X ├─░─\n",
              "          └───┘ ░ \n",
              "c: 3/═════════════\n",
              "                  </pre>"
            ]
          },
          "metadata": {},
          "execution_count": 80
        }
      ]
    },
    {
      "cell_type": "markdown",
      "source": [
        "### Step 2: **Hari asks Ram** to prepare **a gift** (𝝭) in his booth!"
      ],
      "metadata": {
        "id": "vbFzqzdHmFBt"
      }
    },
    {
      "cell_type": "code",
      "source": [
        "#Let's say Ram want's to send 𝝭 = q0 = any state!\n",
        "#q0 is initialized at |0> (by default in Qiskit) state - \n",
        "#which can be rotated by x-gate to get |1> state\n",
        "\n",
        "#&&&&&&======[this will prepare the gift in |1> state]=======\n",
        "q0 = qc.x(0) \n",
        "\n",
        "\n",
        "\n",
        "#&&&&&&&===we can define an amplitude (of a quantum state)===UNCOMMENT (two code lines) to play!\n",
        "#amplitude_0 = (0.5)**(1/2)\n",
        "\n",
        "#==prepares any state you wanna send===\n",
        "#qc.prepare_state([amplitude_0, (1 - amplitude_0**2)**(1/2)], 0) \n",
        "\n",
        "\n",
        "\n",
        "#make a barrier to visualize the circuit better\n",
        "qc.barrier()\n",
        "qc.draw()"
      ],
      "metadata": {
        "colab": {
          "base_uri": "https://localhost:8080/"
        },
        "id": "vv6e8EuuoCaN",
        "outputId": "8d768ae7-19e5-4168-f651-8cb837a2f1d2"
      },
      "execution_count": null,
      "outputs": [
        {
          "output_type": "execute_result",
          "data": {
            "text/plain": [
              "                ░ ┌───┐ ░ \n",
              "q_0: ───────────░─┤ X ├─░─\n",
              "     ┌───┐      ░ └───┘ ░ \n",
              "q_1: ┤ H ├──■───░───────░─\n",
              "     └───┘┌─┴─┐ ░       ░ \n",
              "q_2: ─────┤ X ├─░───────░─\n",
              "          └───┘ ░       ░ \n",
              "c: 3/═════════════════════\n",
              "                          "
            ],
            "text/html": [
              "<pre style=\"word-wrap: normal;white-space: pre;background: #fff0;line-height: 1.1;font-family: &quot;Courier New&quot;,Courier,monospace\">                ░ ┌───┐ ░ \n",
              "q_0: ───────────░─┤ X ├─░─\n",
              "     ┌───┐      ░ └───┘ ░ \n",
              "q_1: ┤ H ├──■───░───────░─\n",
              "     └───┘┌─┴─┐ ░       ░ \n",
              "q_2: ─────┤ X ├─░───────░─\n",
              "          └───┘ ░       ░ \n",
              "c: 3/═════════════════════\n",
              "                          </pre>"
            ]
          },
          "metadata": {},
          "execution_count": 81
        }
      ]
    },
    {
      "cell_type": "markdown",
      "source": [
        "### Step 3: **Ram** packs the gift: (𝝭) (using Bell state): then he measures (checks) his half of **the Bell pair** and his special state in the \"Bell basis\"!\n",
        "\n",
        "\n",
        " **Ram packs Hari's gift into a quantum packet: qubit and checks if it's alright!**"
      ],
      "metadata": {
        "id": "rylMdQQKn05T"
      }
    },
    {
      "cell_type": "code",
      "source": [
        "#packing the gift (𝝭) that is entangling 𝝭 with Ram's qubit\n",
        "qc.cx(0,1)\n",
        "qc.h(0)\n",
        "\n",
        "#measuring Ram's state in the Bell basis: making sure all good!\n",
        "qc.measure([0,1], [0,1]) \n",
        "\n",
        "\n",
        "#for us to see their activities closely!\n",
        "qc.barrier()\n",
        "qc.draw(cregbundle = False) \n",
        "\n",
        "#using google:\n",
        "#to visualize the quantum circuit qc without bundling \n",
        "#the classical registers"
      ],
      "metadata": {
        "colab": {
          "base_uri": "https://localhost:8080/"
        },
        "id": "YBVFdWMQpe4J",
        "outputId": "31e35ead-1d62-47b0-a71a-18a3484c1ada"
      },
      "execution_count": null,
      "outputs": [
        {
          "output_type": "execute_result",
          "data": {
            "text/plain": [
              "                ░ ┌───┐ ░      ┌───┐┌─┐ ░ \n",
              "q_0: ───────────░─┤ X ├─░───■──┤ H ├┤M├─░─\n",
              "     ┌───┐      ░ └───┘ ░ ┌─┴─┐└┬─┬┘└╥┘ ░ \n",
              "q_1: ┤ H ├──■───░───────░─┤ X ├─┤M├──╫──░─\n",
              "     └───┘┌─┴─┐ ░       ░ └───┘ └╥┘  ║  ░ \n",
              "q_2: ─────┤ X ├─░───────░────────╫───╫──░─\n",
              "          └───┘ ░       ░        ║   ║  ░ \n",
              "c_0: ════════════════════════════╬═══╩════\n",
              "                                 ║        \n",
              "c_1: ════════════════════════════╩════════\n",
              "                                          \n",
              "c_2: ═════════════════════════════════════\n",
              "                                          "
            ],
            "text/html": [
              "<pre style=\"word-wrap: normal;white-space: pre;background: #fff0;line-height: 1.1;font-family: &quot;Courier New&quot;,Courier,monospace\">                ░ ┌───┐ ░      ┌───┐┌─┐ ░ \n",
              "q_0: ───────────░─┤ X ├─░───■──┤ H ├┤M├─░─\n",
              "     ┌───┐      ░ └───┘ ░ ┌─┴─┐└┬─┬┘└╥┘ ░ \n",
              "q_1: ┤ H ├──■───░───────░─┤ X ├─┤M├──╫──░─\n",
              "     └───┘┌─┴─┐ ░       ░ └───┘ └╥┘  ║  ░ \n",
              "q_2: ─────┤ X ├─░───────░────────╫───╫──░─\n",
              "          └───┘ ░       ░        ║   ║  ░ \n",
              "c_0: ════════════════════════════╬═══╩════\n",
              "                                 ║        \n",
              "c_1: ════════════════════════════╩════════\n",
              "                                          \n",
              "c_2: ═════════════════════════════════════\n",
              "                                          </pre>"
            ]
          },
          "metadata": {},
          "execution_count": 82
        }
      ]
    },
    {
      "cell_type": "markdown",
      "source": [
        "### Step 4: **Ram calls (sends the classical information: \"what's the gift?\" info) Shyam over a classical channel**!"
      ],
      "metadata": {
        "id": "_FTg-Autn1Xg"
      }
    },
    {
      "cell_type": "markdown",
      "source": [
        "### Step 5: Shyam make adjustment of his half of the Bell pair in his quantum booth based on the Ram's call (measurement results - classical!!!) \n",
        "\n",
        "This quantum adjustments needed in the quantum circuit:\n",
        "\n",
        "\n",
        "*   If the *Ram's measurement result* was 1, **apply an X-gate to Shyam's qubit** (Bell state)!\n",
        "\n",
        "* If the *gift (𝝭: teleportation qubit: q0)* was 1, **apply a Z-gate to the Shyam's qubit**! \n",
        "\n",
        "* Then measure Shyam's qubit!\n",
        "\n",
        "* Gift delivered? (need to confirm!!!)"
      ],
      "metadata": {
        "id": "mzXzjtWEoOU7"
      }
    },
    {
      "cell_type": "code",
      "source": [
        "qc.x(2).c_if(qc.clbits[1], 1)\n",
        "qc.z(2).c_if(qc.clbits[0], 1)\n",
        "\n",
        "#measuring Shyam's quit and storing it in 2nd classical bit\n",
        "qc.measure(2,2) \n",
        "\n",
        "qc.draw(cregbundle = False)"
      ],
      "metadata": {
        "colab": {
          "base_uri": "https://localhost:8080/"
        },
        "id": "hNuTCbCst4Hc",
        "outputId": "2fae896e-1911-477a-8123-669a4e01e503"
      },
      "execution_count": null,
      "outputs": [
        {
          "output_type": "execute_result",
          "data": {
            "text/plain": [
              "                ░ ┌───┐ ░      ┌───┐┌─┐ ░              \n",
              "q_0: ───────────░─┤ X ├─░───■──┤ H ├┤M├─░──────────────\n",
              "     ┌───┐      ░ └───┘ ░ ┌─┴─┐└┬─┬┘└╥┘ ░              \n",
              "q_1: ┤ H ├──■───░───────░─┤ X ├─┤M├──╫──░──────────────\n",
              "     └───┘┌─┴─┐ ░       ░ └───┘ └╥┘  ║  ░ ┌───┐┌───┐┌─┐\n",
              "q_2: ─────┤ X ├─░───────░────────╫───╫──░─┤ X ├┤ Z ├┤M├\n",
              "          └───┘ ░       ░        ║   ║  ░ └─╥─┘└─╥─┘└╥┘\n",
              "c_0: ════════════════════════════╬═══╩══════╬════■═══╬═\n",
              "                                 ║          ║        ║ \n",
              "c_1: ════════════════════════════╩══════════■════════╬═\n",
              "                                                     ║ \n",
              "c_2: ════════════════════════════════════════════════╩═\n",
              "                                                       "
            ],
            "text/html": [
              "<pre style=\"word-wrap: normal;white-space: pre;background: #fff0;line-height: 1.1;font-family: &quot;Courier New&quot;,Courier,monospace\">                ░ ┌───┐ ░      ┌───┐┌─┐ ░              \n",
              "q_0: ───────────░─┤ X ├─░───■──┤ H ├┤M├─░──────────────\n",
              "     ┌───┐      ░ └───┘ ░ ┌─┴─┐└┬─┬┘└╥┘ ░              \n",
              "q_1: ┤ H ├──■───░───────░─┤ X ├─┤M├──╫──░──────────────\n",
              "     └───┘┌─┴─┐ ░       ░ └───┘ └╥┘  ║  ░ ┌───┐┌───┐┌─┐\n",
              "q_2: ─────┤ X ├─░───────░────────╫───╫──░─┤ X ├┤ Z ├┤M├\n",
              "          └───┘ ░       ░        ║   ║  ░ └─╥─┘└─╥─┘└╥┘\n",
              "c_0: ════════════════════════════╬═══╩══════╬════■═══╬═\n",
              "                                 ║          ║        ║ \n",
              "c_1: ════════════════════════════╩══════════■════════╬═\n",
              "                                                     ║ \n",
              "c_2: ════════════════════════════════════════════════╩═\n",
              "                                                       </pre>"
            ]
          },
          "metadata": {},
          "execution_count": 83
        }
      ]
    },
    {
      "cell_type": "markdown",
      "source": [
        "### Final Check: Simulation and Plot and Confirmation!!!\n",
        "\n",
        "**In Shyam's quantum booth!!!!**"
      ],
      "metadata": {
        "id": "3dV_VCdnuNfz"
      }
    },
    {
      "cell_type": "code",
      "source": [
        "# Simulation and plot of histogram results\n",
        "\n",
        "#using simulator\n",
        "backend = Aer.get_backend('qasm_simulator')  \n",
        "#(you can choose to use real quantum computer in ibm quantum lab!)\n",
        "\n",
        "job = execute(qc, backend = backend, shots = 1024)\n",
        "\n",
        "result = job.result()\n",
        "counts = result.get_counts()\n",
        "\n",
        "plot_histogram(counts)"
      ],
      "metadata": {
        "colab": {
          "base_uri": "https://localhost:8080/"
        },
        "id": "pdDsosTGubw2",
        "outputId": "601d1c55-4b5e-4bdb-db0d-08f6e4209515"
      },
      "execution_count": null,
      "outputs": [
        {
          "output_type": "execute_result",
          "data": {
            "text/plain": [
              "<Figure size 700x500 with 1 Axes>"
            ],
            "image/png": "[encoded data removed]"
          },
          "metadata": {},
          "execution_count": 84
        }
      ]
    },
    {
      "cell_type": "code",
      "source": [
        "# Shyam's State: let's forget what Ram said (Ram's measurement result)\n",
        "\n",
        "shyam_state = [0, 0]\n",
        "for state in result.get_counts().keys():\n",
        "  shyam_state[int(state[0])] += result.get_counts()[state]\n",
        "\n",
        "norm = (sum(c**2 for c in shyam_state))**(1/2)\n",
        "shyam_state = [c / norm for c in shyam_state]\n",
        "\n",
        "statevector = Statevector(shyam_state)\n",
        "\n",
        "statevector.draw(output = 'latex')\n",
        "\n",
        "statevector.draw(output = 'bloch')"
      ],
      "metadata": {
        "colab": {
          "base_uri": "https://localhost:8080/"
        },
        "id": "wcCiiFwWukIc",
        "outputId": "caca8e3f-4918-4764-f750-460e819271bd"
      },
      "execution_count": null,
      "outputs": [
        {
          "output_type": "execute_result",
          "data": {
            "text/plain": [
              "<Figure size 480x480 with 1 Axes>"
            ],
            "image/png": "[encoded data removed]"
          },
          "metadata": {},
          "execution_count": 85
        }
      ]
    },
    {
      "cell_type": "markdown",
      "source": [
        "## Mathematical Steps of Quantum Teleportation\n",
        "\n",
        "The mathematical steps involved in the quantum teleportation are:\n",
        "\n"
      ],
      "metadata": {
        "id": "5gHD3pTPdozS"
      }
    },
    {
      "cell_type": "markdown",
      "source": [
        "**Step 1: Ram and Shyam share a pair of entangled qubits (|$\\Phi^+$ ⟩) in the Bell state:**\n",
        "\n",
        "\n",
        "After applying H on q1 = |0⟩, we get a superposition state:\n",
        "\n",
        "\\begin{align}\n",
        "H |0⟩ &= \\frac{1}{\\sqrt{2}}\\begin{pmatrix}\n",
        "1 & 1 \\\\\n",
        "1 & -1\n",
        "\\end{pmatrix} \\begin{pmatrix} 1 \\\\ 0 \\end{pmatrix} = \\frac{1}{\\sqrt{2}} \\begin{pmatrix} 1 \\\\ 1 \\end{pmatrix}\n",
        "\\end{align}\n",
        "\n",
        "\n",
        "and then applying CNOT[q1,q2], we obtain (in the Bell basis {|00⟩, |01⟩, |10⟩, |11⟩}: \n",
        "\\begin{equation}\n",
        "|\\Phi^+⟩ = \\frac{(|00⟩ + |11⟩)}{\\sqrt{2}}\n",
        "\\end{equation}\n",
        "\n",
        "That is to say:\n",
        "\n",
        "\\begin{align}\n",
        "|\\Phi^+ ⟩ &= \\frac{1}{\\sqrt{2}}(|0\\rangle \\otimes |0\\rangle + |1\\rangle \\otimes |1 \\rangle) \\\\\n",
        "&= \\frac{1}{\\sqrt{2}} \\begin{pmatrix}\n",
        "1 \\\\ 0 \\\\ 0 \\\\ 0\n",
        "\\end{pmatrix} + \\frac{1}{\\sqrt{2}} \\begin{pmatrix}\n",
        "0 \\\\ 0 \\\\ 0 \\\\ 1\n",
        "\\end{pmatrix} \\\\\n",
        "&= \\frac{1}{\\sqrt{2}} \\begin{pmatrix}\n",
        "1 \\\\ 0 \\\\ 0 \\\\ 1\n",
        "\\end{pmatrix} \\\\\n",
        "&= \\frac{1}{\\sqrt{2}} (|00⟩ + |11⟩) \\, \\, [in \\ the \\ computational \\ basis]\n",
        "\\end{align}\n",
        "\n",
        "The state $|\\Phi^+\\rangle$ is entangled because it cannot be written as the tensor product of two separate qubits.\n",
        "\n",
        "Specifically, $|\\Phi^+\\rangle$ is a maximally entangled state of two qubits, meaning that it has the highest possible degree of entanglement for a two-qubit state. In this case, the state $|\\Phi^+\\rangle$ is entangled because it has a non-zero amplitude for both of the possible states where one qubit is in the $|0\\rangle$ state and the other qubit is in the $|1\\rangle$ state, as well as for the states where the qubits are flipped.\n",
        "\n",
        "This entanglement means that the two qubits in the state $|\\Phi^+\\rangle$ are strongly correlated with each other, and measuring one of the qubits can affect the state of the other qubit in a non-trivial way.\n",
        "\n",
        "\n",
        "**Want to learn more?**\n",
        "\n",
        "In quantum mechanics, it is possible to have a composite system made up of two or more individual quantum systems. For example, two electrons can be combined to form a two-electron system, or two photons can be combined to form a two-photon system.\n",
        "\n",
        "When we have a composite quantum system, the state of the system can be described using a mathematical object called a state vector, which is an element of a vector space called the Hilbert space.\n",
        "\n",
        "In the case of a two-qubit system, the Hilbert space is the tensor product of the individual qubit Hilbert spaces. The tensor product operation combines the states of the two qubits into a single, composite state.\n",
        "\n",
        "If the two qubits are in a product state, meaning that they are not entangled with each other, then the state of the composite system can be written as the tensor product of the individual qubit states.\n",
        "\n",
        "However, if the two qubits are entangled with each other, then the state of the composite system cannot be written as a tensor product of the individual qubit states. In other words, the two qubits are not separable from each other, and measuring one qubit can affect the state of the other qubit in a non-trivial way.\n",
        "\n",
        "In the case of the state $|\\Phi^+\\rangle$, it cannot be written as a tensor product of two separate qubits, so it is an entangled state.\n",
        "\n",
        "\n"
      ],
      "metadata": {
        "id": "_fD2fJed4h4_"
      }
    },
    {
      "cell_type": "markdown",
      "source": [
        "**Note1 : Qubits in : {|0⟩, |1⟩} basis:**\n",
        "\n",
        "***|0> State***\n",
        "\\begin{equation}\n",
        "|0\\rangle = 1|0\\rangle + 0|1\\rangle = \\begin{pmatrix} 1 \\\\ 0 \\\\ \\end{pmatrix}\n",
        "\\end{equation}\n",
        "\n",
        "***|1> State***\n",
        "\\begin{equation}\n",
        "|1\\rangle = 0|0\\rangle + 1|1\\rangle = \\begin{pmatrix} 0 \\\\ 1 \\\\ \\end{pmatrix}\n",
        "\\end{equation}\n",
        "\n",
        "**Note 2: [Tensor Products](https://www.ryanlarose.com/uploads/1/1/5/8/115879647/quic02.pdf): in the Bell basis: {|00⟩,|01⟩,|10⟩,|11⟩}:**\n",
        "\\begin{align}\n",
        "|0\\rangle \\otimes |1\\rangle &= \\begin{pmatrix}\n",
        "1 \\\\ 0\n",
        "\\end{pmatrix} \\otimes \\begin{pmatrix}\n",
        "0 \\\\ 1\n",
        "\\end{pmatrix} = \\begin{pmatrix}\n",
        "1 \\cdot \\begin{pmatrix} 0 \\\\ 1 \\end{pmatrix} \\\\\n",
        "0 \\cdot \\begin{pmatrix} 0 \\\\ 1 \\end{pmatrix}\n",
        "\\end{pmatrix} = \\begin{pmatrix}\n",
        "0 \\\\ 1 \\\\ 0 \\\\ 0\n",
        "\\end{pmatrix} \\\\\n",
        "\\end{align}\n",
        "\n",
        "This can be written in the Bell basis, that is to say,\n",
        "\\begin{align}\n",
        "|0\\rangle \\otimes |1\\rangle = \\begin{pmatrix}\n",
        "0 \\\\ 1 \\\\ 0 \\\\ 0\n",
        "\\end{pmatrix} = 0 |00⟩ + 1|01⟩ + 0 |10⟩ + 0 |11⟩.\n",
        "\\end{align}\n",
        "\n",
        "Similarly,\n",
        "\\begin{align}\n",
        "|1\\rangle \\otimes |0\\rangle &= \\begin{pmatrix}\n",
        "0 \\\\ 1\n",
        "\\end{pmatrix} \\otimes \\begin{pmatrix}\n",
        "1 \\\\ 0\n",
        "\\end{pmatrix} = \\begin{pmatrix}\n",
        "0 \\cdot \\begin{pmatrix} 1 \\\\ 0 \\end{pmatrix} \\\\\n",
        "1 \\cdot \\begin{pmatrix} 1 \\\\ 0 \\end{pmatrix}\n",
        "\\end{pmatrix} = \\begin{pmatrix}\n",
        "0 \\\\ 0 \\\\ 1 \\\\ 0\n",
        "\\end{pmatrix}  \\\\\n",
        "&= 0 |00⟩ + 0|01⟩ + 1|10⟩ + 0 |11⟩.\n",
        "\\end{align}\n",
        "\n",
        "\\begin{align}\n",
        "|0\\rangle \\otimes |0\\rangle &= \\begin{pmatrix}\n",
        "1 \\\\ 0\n",
        "\\end{pmatrix} \\otimes \\begin{pmatrix}\n",
        "1 \\\\ 0\n",
        "\\end{pmatrix} = \\begin{pmatrix}\n",
        "1 \\cdot \\begin{pmatrix} 1 \\\\ 0 \\end{pmatrix} \\\\\n",
        "0 \\cdot \\begin{pmatrix} 1 \\\\ 0 \\end{pmatrix}\n",
        "\\end{pmatrix} = \\begin{pmatrix}\n",
        "1 \\\\ 0 \\\\ 0 \\\\ 0\n",
        "\\end{pmatrix}  \\\\\n",
        "&= 1 |00⟩ + 0|01⟩ + 0|10⟩ + 0 |11⟩.\n",
        "\\end{align}\n",
        "\n",
        "\n",
        "\\begin{align}\n",
        "|1\\rangle \\otimes |1\\rangle &= \\begin{pmatrix}\n",
        "0 \\\\ 1\n",
        "\\end{pmatrix} \\otimes \\begin{pmatrix}\n",
        "0 \\\\ 1\n",
        "\\end{pmatrix} = \\begin{pmatrix}\n",
        "0 \\cdot \\begin{pmatrix} 0 \\\\ 1 \\end{pmatrix} \\\\\n",
        "1 \\cdot \\begin{pmatrix} 0 \\\\ 1 \\end{pmatrix}\n",
        "\\end{pmatrix} = \\begin{pmatrix}\n",
        "0 \\\\ 0 \\\\ 0 \\\\ 1\n",
        "\\end{pmatrix}  \\\\\n",
        "&= 0 |00⟩ + 0|01⟩ + 0|10⟩ + 1|11⟩.\n",
        "\\end{align}\n",
        "\n",
        "\n"
      ],
      "metadata": {
        "id": "tXFqxeEJ9gnC"
      }
    },
    {
      "cell_type": "markdown",
      "source": [
        "**Step 2: Ram prepares (in his Quantum lab) the qubit (the gift) he wants to teleport ($|\\Psi$ ⟩):**\n",
        "\n",
        "\\begin{equation}\n",
        "|\\Psi \\rangle = \\alpha |0\\rangle + \\beta |1\\rangle = \\begin{pmatrix} \\alpha \\\\ \\beta \\\\ \\end{pmatrix}\n",
        "\\end{equation}\n",
        "\n",
        "Here, $|\\Psi>$ represents the qubit that Ram wants to teleport (**Hari's gift!!!**), with different amplitudes ($|α|^2$ and $|β|^2$) follow Born's rule: $\\sqrt{|α|^2 + |β|^2} = 1$."
      ],
      "metadata": {
        "id": "Ef54RijI5sFP"
      }
    },
    {
      "cell_type": "markdown",
      "source": [
        "**Step 3: Ram applies a controlled operation (CNOT) on his qubit ($|\\Phi^+$⟩) and the qubit he wants to teleport ($|\\Psi$ ⟩), and then applies a Hadamard gate to his qubit:**\n",
        "\n",
        "\n",
        "Note that the state of **the entire system (Ram + Shyam's qubits)** is:\n",
        "(reading from left to right: left most = q0 (zeroth - teleportation qubit), then comes q1 (1st), then q2 (second), that is |q0 q1 q2⟩)\n",
        "\n",
        "\\begin{align}\n",
        "|𝜳_{entire}⟩ &=  |\\Psi⟩ ⊗ \\frac{1}{\\sqrt{2}}(|00⟩ + |11⟩) \\\\\n",
        "&= (\\alpha |0\\rangle + |1\\rangle) ⊗ \\frac{1}{\\sqrt{2}}(|00⟩ + |11⟩) \\\\\n",
        "&= \\frac{1}{\\sqrt{2}} (α |000⟩ + α |011⟩ + β |100⟩ + β |111⟩).\n",
        "\\end{align}\n",
        "\n",
        "Here, $|\\Psi⟩$ represents the qubit that Ram wants to teleport (**Hari's gift!!!**), which is being entangled to the Bell state ($|\\Phi^+⟩$). In order to do that, first, we apply CNOT gate from  $|\\Psi⟩$ to $|\\Phi^+⟩$, and finally apply Hadamard gate (H) to the first qubit of the $|\\Psi⟩$.\n",
        "\n",
        "\n",
        "Applying CNOT gate to the |𝜳_{entire}⟩, which perform between the zeroth (teleporting qubit) and the first qubits (sending qubit) **[first (control) qubit never changes in CNOT gate; if control is |0⟩, the target doesnot get changed; but if the control qubit is |1⟩,then apply X to the target qubit \\]**, then we get\n",
        "\n",
        "\\begin{align}\n",
        "& CX|q_0, q_1⟩ = CX|𝜳_{entire}⟩  \\\\\n",
        "&= \\frac{1}{\\sqrt{2}} CX_{q_0,q_1}(α |000⟩ + α |011⟩ + β |100⟩ + β |111⟩) \\\\\n",
        "& = \\frac{1}{\\sqrt{2}} (α |000⟩ + α |011⟩ + β |110⟩ + β |101⟩)\n",
        "\\end{align}\n",
        "\n",
        "\n",
        "Now, performing a Hadamard gate on the zeroth qubit ($q_0$) to entangle with $q_1$, we get semi-final state |𝜳_{final}⟩:\n",
        "\n",
        "\\begin{align}\n",
        "|𝜳_{semi-final}⟩  &:= \\frac{1}{2} (α |000⟩ + α |100⟩ + α |011⟩ + α |111⟩ + β |010⟩ - β |110⟩ - β |101⟩ + β |001⟩ ) \\\\\n",
        "&:= \\frac{1}{2} (α |00⟩ |0⟩ + α |10⟩ |0⟩ + α |01⟩ |1⟩ + α |11⟩ |1⟩ + β |01⟩ |0⟩ - β |11⟩ |0⟩ - β |10⟩ |1⟩ + β |00⟩ |1⟩ ) \n",
        "\\end{align}\n",
        "\n",
        "\n",
        "There are four possibilities for the first two qubits ($q_0, q_1$): {|00⟩, |01⟩, |10⟩, |11⟩} -- computational basis. Grouping these two qubits together (rearranging these), we can get\n",
        "\n",
        "**(SEE SOME PATTERN???)**\n",
        "\\begin{align}\n",
        "|𝜳_{final}⟩  &:= \\frac{1}{2} |00\\rangle(\\alpha|0\\rangle + \\beta|1\\rangle) \\\\ \n",
        "&+ \\frac{1}{2} |01\\rangle(\\alpha|1\\rangle + \\beta|0\\rangle) \\\\\n",
        "&+ \\frac{1}{2} |10\\rangle(\\alpha|0\\rangle - \\beta|1\\rangle) \\\\\n",
        "&+ \\frac{1}{2}|11\\rangle(\\alpha|1\\rangle - \\beta|0\\rangle ).\n",
        "\\end{align}\n",
        "\n",
        "\n",
        "\n"
      ],
      "metadata": {
        "id": "GzBJYeBC4zL4"
      }
    },
    {
      "cell_type": "markdown",
      "source": [
        "**Step 3: Ram measures both of his qubits and sends the measurement results (two classical bits) to Shyam through classical communication.**\n",
        "\n",
        "Ram's measurement can be described by a projection operator, $M_{a,b} = |a\\rangle \\langle a| \\otimes |b\\rangle \\langle b|$, where $a,b \\in {0,1}$. Depending on the outcome of her measurement, Ram sends a message to Shyam indicating the measurement result.\n",
        "\n"
      ],
      "metadata": {
        "id": "BaOZ5Sla4h7r"
      }
    },
    {
      "cell_type": "markdown",
      "source": [
        "**Step 4: Based on the measurement results, Shyam applies a correction operation (X or Z gate) on his qubit to obtain the teleported state:**\n",
        "\n",
        "* If Ram's measurement results are |00⟩, Shyam performs nothing (or Identity - I).\n",
        "\n",
        "* If Ram's measurement results are |01⟩, Shyam applies an X gate to his qubit.\n",
        "\n",
        "* If Ram's measurement results are |10⟩, Shyam applies the Z gate to his qubit.\n",
        "\n",
        "* If Ram's measurement results are |11⟩, Shyam applies both the X and then Z gates to his qubit.\n",
        "\n",
        "This step can be represented mathematically as follows:\n",
        "\n",
        "\\begin{equation}\n",
        "|\\psi\\rangle = \\sum_{a,b} (-1)^{a \\cdot b} M_{a,b} (H \\otimes I) (CNOT \\otimes I) (|\\psi\\rangle \\otimes |\\Psi_{final}\\rangle)\n",
        "\\end{equation}\n",
        "\n",
        "Here, the $a \\cdot b$ term represents the inner product of the measurement results, and the correction gates are applied to Shyam's qubit based on the measurement results.\n",
        "\n"
      ],
      "metadata": {
        "id": "0OAo626-4iCK"
      }
    },
    {
      "cell_type": "markdown",
      "source": [
        "**Step 5: The teleported state is now stored in Shyam's qubit, and the original qubit held by Ram is destroyed.**\n",
        "\n",
        "Shyam's qubit now holds the teleported state |$\\Psi$⟩, which is identical to the original state held/teleported by Ram. Ram's qubit is destroyed during the process.\n",
        "\n",
        "Referring to the step 4 instructions, let's apply necessary gates: $I$, $X$, $Z$, or $X$ & $Z$, we get $|𝜳⟩$ (**intial qubit of Hari (teleportation qubit): the gift delivered!!!**)\n",
        "\n",
        "\\begin{align}\n",
        "& |𝜳_{final}⟩  = |\\Psi \\rangle = \\alpha |0\\rangle + \\beta |1\\rangle = \\begin{pmatrix} \\alpha \\\\ \\beta \\\\ \\end{pmatrix} \\\\ \n",
        "& |𝜳_{final}⟩ = I |𝜳_{final}⟩_{00} =  \\alpha |0\\rangle + \\beta |1\\rangle = \\begin{pmatrix} \\alpha \\\\ \\beta \\\\ \\end{pmatrix} = |\\Psi \\rangle \\\\\n",
        "& |𝜳_{final}⟩ = X |𝜳_{final}⟩_{01} = X (\\alpha|1\\rangle + \\beta|0\\rangle) = \\alpha |0\\rangle + \\beta |1\\rangle = \\begin{pmatrix} \\alpha \\\\ \\beta \\\\ \\end{pmatrix} = |\\Psi \\rangle \\\\\n",
        "& |𝜳_{final}⟩ = Z |𝜳_{final}⟩_{10} = Z \\rangle(\\alpha|0\\rangle - \\beta|1\\rangle) = \\alpha |0\\rangle + \\beta |1\\rangle = \\begin{pmatrix} \\alpha \\\\ \\beta \\\\ \\end{pmatrix} = |\\Psi \\rangle \\\\\n",
        "& |𝜳_{final}⟩ = ZX |𝜳_{final}⟩_{11} =  ZX (\\alpha|1\\rangle - \\beta|0\\rangle ) = Z(\\alpha|0\\rangle - \\beta|1\\rangle ) = \\alpha |0\\rangle + \\beta |1\\rangle = \\begin{pmatrix} \\alpha \\\\ \\beta \\\\ \\end{pmatrix} = |\\Psi \\rangle \\\\.\n",
        "\\end{align}\n",
        "\n",
        "Thus, quantum teleportation involves the use of entangled qubits and classical communication to transfer the state of a qubit from one physical location to another without physically transferring the qubit itself!"
      ],
      "metadata": {
        "id": "N1K0MVmu4iEy"
      }
    },
    {
      "cell_type": "markdown",
      "source": [
        "***Note 3: Quantum Gates (used here):***\n",
        "\n",
        "***Pauli X-gate (NOT gate, bit flip gate):***\n",
        "\\begin{equation}\n",
        "X = \\begin{pmatrix}\n",
        "0 & 1 \\\\\n",
        "1 & 0\n",
        "\\end{pmatrix}\n",
        "\\end{equation}\n",
        "\n",
        "\n",
        "\\begin{align}\n",
        "X|0\\rangle &= |1\\rangle \\\\\n",
        "X|1\\rangle &= |0\\rangle\n",
        "\\end{align}\n",
        "\n",
        "\n",
        "\n",
        "***Z-gate (rotation around Z axis by Π angle (180°), phase flip gate):***\n",
        "\\begin{align}\n",
        "Z = \\begin{pmatrix}\n",
        "1 & 0 \\\\\n",
        "0 & -1 \\\\\n",
        "\\end{pmatrix}\n",
        "\\end{align}\n",
        "\n",
        "\\begin{align}\n",
        "Z|0\\rangle &= \\begin{pmatrix}\n",
        "1 & 0 \\\\\n",
        "0 & -1 \\\\\n",
        "\\end{pmatrix} \\begin{pmatrix}\n",
        "1 \\\\\n",
        "0 \\\\\n",
        "\\end{pmatrix} = \\begin{pmatrix}\n",
        "1 \\\\\n",
        "0 \\\\\n",
        "\\end{pmatrix} = |0\\rangle \\\\\n",
        "Z|1\\rangle &= \\begin{pmatrix}\n",
        "1 & 0 \\\\\n",
        "0 & -1 \\\\\n",
        "\\end{pmatrix} \\begin{pmatrix}\n",
        "0 \\\\\n",
        "1 \\\\\n",
        "\\end{pmatrix} = \\begin{pmatrix}\n",
        "0 \\\\\n",
        "-1 \\\\\n",
        "\\end{pmatrix} = -|1\\rangle\n",
        "\\end{align}\n",
        "\n",
        "\n",
        "\n",
        "\n",
        "***H-gate:***\n",
        "\\begin{equation}\n",
        "H = \\frac{1}{\\sqrt{2}}\\begin{pmatrix}\n",
        "1 & 1 \\\\\n",
        "1 & -1\n",
        "\\end{pmatrix}\n",
        "\\end{equation}\n",
        "\n",
        "\\begin{align}\n",
        "H|0\\rangle &= \\frac{1}{\\sqrt{2}}(|0\\rangle + |1\\rangle) \\\\\n",
        "H|1\\rangle &= \\frac{1}{\\sqrt{2}}(|0\\rangle - |1\\rangle)\n",
        "\\end{align}\n",
        "\n",
        "\n",
        "***[Controlled-NOT Gate (CNOT): for multi-qubit gates](https://www.ryanlarose.com/uploads/1/1/5/8/115879647/quic02.pdf):***\n",
        "\n",
        "In the computational basis {|00⟩,|01⟩,|10⟩,|11⟩}, the CNOT matrix is defined as follows:\n",
        "\n",
        "\\begin{equation}\n",
        "\\mathrm{CNOT} = \\begin{pmatrix}\n",
        "1 & 0 & 0 & 0 \\\\\n",
        "0 & 1 & 0 & 0 \\\\\n",
        "0 & 0 & 0 & 1 \\\\\n",
        "0 & 0 & 1 & 0\n",
        "\\end{pmatrix}\n",
        "\\end{equation}\n",
        "\n",
        "The Controlled-NOT gate $CNOT_{0,1}$ (controlling on the first qubit with the second qubit as the target) has the following action on computational basis states:\n",
        "\n",
        "\\begin{align}\n",
        "CNOT_{0,1} |00⟩ = |00⟩, \\\\\n",
        "CNOT_{0,1}|01⟩ = |01⟩, \\\\\n",
        "CNOT_{0,1}|10⟩ = |11⟩, \\\\\n",
        "CNOT_{0,1} |11⟩ = |10⟩. \\\\\n",
        "\\end{align}\n",
        "\n",
        "***Extra:***\n",
        ".c_if(qc.clbits[1], 1) and .c_if(qc.clbits[0], 1) are classical control bits that specify whether or not the quantum gate should be applied based on the value of a classical bit. In this case, qc.clbits[1] and qc.clbits[0] are classical bits in the QuantumCircuit object qc, and the gate is applied only if the value of the corresponding classical bit is 1."
      ],
      "metadata": {
        "id": "C6RbxsgQF-wm"
      }
    },
    {
      "cell_type": "markdown",
      "source": [
        "**Note***\n",
        "We can write: [Ref](10.1109/ACCESS.2019.2960592):\n",
        "\\begin{align}\n",
        "CX(\\Psi, \\Phi^+) ⇒ (|\\Phi^+⟩ → |\\Psi \\oplus \\Phi^+⟩)\n",
        "\\end{align}\n",
        "\n",
        "where,\n",
        "\\begin{align}\n",
        "CX = CNOT &= \n",
        "\\begin{pmatrix} \n",
        "1 & 0 & 0 & 0 \\\\ \n",
        "0 & 1 & 0 & 0 \\\\\n",
        "1 & 0 & 0 & 1 \\\\\n",
        "1 & 0 & 1 & 0\\\\\n",
        "\\end{pmatrix} \n",
        "\\end{align}"
      ],
      "metadata": {
        "id": "cCqIHkGcqZfm"
      }
    },
    {
      "cell_type": "markdown",
      "source": [
        "## Quantum Key Distribution (QKD)\n",
        "\n",
        "QKD stands for Quantum Key Distribution, which is a cryptographic technique that uses the principles of quantum mechanics to establish a secure key between two parties. The key can then be used for secure communication using symmetric encryption.\n",
        "\n",
        "The basic idea of QKD is to use the properties of quantum particles (usually photons) to create a secure key that cannot be intercepted or copied without detection. In QKD, two parties (usually referred to as Ram and Shyam) exchange quantum bits (qubits) over a communication channel. Since the act of measurement on a quantum system changes its state, any attempt by an eavesdropper (usually referred to as Eve) to intercept the qubits will be detected by Ram and Shyam.\n",
        "\n",
        "QKD protocols typically involve the use of single photons that are sent over the communication channel in a random sequence. The two parties measure the photons using a basis that is randomly selected for each photon. If the same basis is used by both parties, the measurement results will be correlated. These correlated bits are then used to establish a secure key that can be used for encryption.\n",
        "\n",
        "There are different types of QKD protocols, such as the BB84 protocol, which was proposed by Charles Bennett and Gilles Brassard in 1984, and the E91 protocol, which was proposed by Artur Ekert in 1991. QKD has already been implemented in a number of experimental settings, and it is considered a promising technology for secure communication in the future."
      ],
      "metadata": {
        "id": "CTuxHC7BVlMJ"
      }
    },
    {
      "cell_type": "markdown",
      "source": [
        "## Limitations of Quantum teleportation \n",
        "Quantum teleportation is not what you think of it seeinc pop culture ideas of teleportation!!!\n",
        "\n",
        "1. It requires that*** an entangled bell state*** be split between the sending and receiving destinations.\n",
        "2. Because it requires measuring the bell state, each time you want to perform teleportation, you have to **share a new bell state**!\n",
        "3. It is **not instantaneous**: requires classical communication (a phone call or email) between the sender and receiver.\n",
        "4. It is meant for sending **one qubit at a time**, not a whole stuff (or a person!)!"
      ],
      "metadata": {
        "id": "FAvBIgPxi6z-"
      }
    },
    {
      "cell_type": "markdown",
      "source": [
        "# End of Lab\n",
        "\n",
        "---\n",
        "\n",
        "© 2023 Sabin Thapa (for contact, email: sabinthapa240@gmail.com), All rights reserved. "
      ],
      "metadata": {
        "id": "FVYwhUjawB0Z"
      }
    }
  ]
}
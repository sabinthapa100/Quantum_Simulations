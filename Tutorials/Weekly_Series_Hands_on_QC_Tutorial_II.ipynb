{
 "cells": [
  {
   "cell_type": "markdown",
   "metadata": {
    "id": "eZl_LAjELIjp",
    "tags": []
   },
   "source": [
    "# Introduction to Quantum Computing - I"
   ]
  },
  {
   "cell_type": "markdown",
   "metadata": {
    "id": "3SKzoNj0VPU3",
    "tags": []
   },
   "source": [
    "# Tutorial 1: Review + Solution\n",
    "\n",
    "Let's review **\"Weekly Series - Hands-on QC Tutorial-I.ipynb\"**.\n",
    "\n"
   ]
  },
  {
   "cell_type": "markdown",
   "metadata": {
    "id": "TfnALS3GW92N",
    "tags": []
   },
   "source": [
    "## Importing all the libraries \n",
    "\n",
    "(no need to memorize!)\n",
    "(you can review it later!)"
   ]
  },
  {
   "cell_type": "code",
   "execution_count": 163,
   "metadata": {
    "colab": {
     "base_uri": "https://localhost:8080/"
    },
    "id": "xauGREHNXFkC",
    "outputId": "9cb3b65c-844c-4375-d84d-063ed2212ccd",
    "tags": []
   },
   "outputs": [
    {
     "name": "stdout",
     "output_type": "stream",
     "text": [
      "Requirement already satisfied: qiskit in /opt/conda/lib/python3.10/site-packages (0.43.0)\n",
      "Requirement already satisfied: qiskit-terra==0.24.0 in /opt/conda/lib/python3.10/site-packages (from qiskit) (0.24.0)\n",
      "Requirement already satisfied: qiskit-ibmq-provider==0.20.2 in /opt/conda/lib/python3.10/site-packages (from qiskit) (0.20.2)\n",
      "Requirement already satisfied: qiskit-aer==0.12.0 in /opt/conda/lib/python3.10/site-packages (from qiskit) (0.12.0)\n",
      "Requirement already satisfied: numpy>=1.16.3 in /opt/conda/lib/python3.10/site-packages (from qiskit-aer==0.12.0->qiskit) (1.23.5)\n",
      "Requirement already satisfied: scipy>=1.0 in /opt/conda/lib/python3.10/site-packages (from qiskit-aer==0.12.0->qiskit) (1.9.3)\n",
      "Requirement already satisfied: websockets>=10.0 in /opt/conda/lib/python3.10/site-packages (from qiskit-ibmq-provider==0.20.2->qiskit) (10.4)\n",
      "Requirement already satisfied: python-dateutil>=2.8.0 in /opt/conda/lib/python3.10/site-packages (from qiskit-ibmq-provider==0.20.2->qiskit) (2.8.2)\n",
      "Requirement already satisfied: urllib3>=1.21.1 in /opt/conda/lib/python3.10/site-packages (from qiskit-ibmq-provider==0.20.2->qiskit) (1.26.13)\n",
      "Requirement already satisfied: websocket-client>=1.5.1 in /opt/conda/lib/python3.10/site-packages (from qiskit-ibmq-provider==0.20.2->qiskit) (1.5.1)\n",
      "Requirement already satisfied: requests-ntlm<=1.1.0 in /opt/conda/lib/python3.10/site-packages (from qiskit-ibmq-provider==0.20.2->qiskit) (1.1.0)\n",
      "Requirement already satisfied: requests>=2.19 in /opt/conda/lib/python3.10/site-packages (from qiskit-ibmq-provider==0.20.2->qiskit) (2.28.1)\n",
      "Requirement already satisfied: stevedore>=3.0.0 in /opt/conda/lib/python3.10/site-packages (from qiskit-terra==0.24.0->qiskit) (4.1.1)\n",
      "Requirement already satisfied: sympy>=1.3 in /opt/conda/lib/python3.10/site-packages (from qiskit-terra==0.24.0->qiskit) (1.11.1)\n",
      "Requirement already satisfied: rustworkx>=0.12.0 in /opt/conda/lib/python3.10/site-packages (from qiskit-terra==0.24.0->qiskit) (0.12.1)\n",
      "Requirement already satisfied: dill>=0.3 in /opt/conda/lib/python3.10/site-packages (from qiskit-terra==0.24.0->qiskit) (0.3.6)\n",
      "Requirement already satisfied: psutil>=5 in /opt/conda/lib/python3.10/site-packages (from qiskit-terra==0.24.0->qiskit) (5.9.4)\n",
      "Requirement already satisfied: symengine<0.10,>=0.9 in /opt/conda/lib/python3.10/site-packages (from qiskit-terra==0.24.0->qiskit) (0.9.2)\n",
      "Requirement already satisfied: ply>=3.10 in /opt/conda/lib/python3.10/site-packages (from qiskit-terra==0.24.0->qiskit) (3.11)\n",
      "Requirement already satisfied: six>=1.5 in /opt/conda/lib/python3.10/site-packages (from python-dateutil>=2.8.0->qiskit-ibmq-provider==0.20.2->qiskit) (1.16.0)\n",
      "Requirement already satisfied: charset-normalizer<3,>=2 in /opt/conda/lib/python3.10/site-packages (from requests>=2.19->qiskit-ibmq-provider==0.20.2->qiskit) (2.1.1)\n",
      "Requirement already satisfied: idna<4,>=2.5 in /opt/conda/lib/python3.10/site-packages (from requests>=2.19->qiskit-ibmq-provider==0.20.2->qiskit) (3.4)\n",
      "Requirement already satisfied: certifi>=2017.4.17 in /opt/conda/lib/python3.10/site-packages (from requests>=2.19->qiskit-ibmq-provider==0.20.2->qiskit) (2022.9.24)\n",
      "Requirement already satisfied: cryptography>=1.3 in /opt/conda/lib/python3.10/site-packages (from requests-ntlm<=1.1.0->qiskit-ibmq-provider==0.20.2->qiskit) (38.0.4)\n",
      "Requirement already satisfied: ntlm-auth>=1.0.2 in /opt/conda/lib/python3.10/site-packages (from requests-ntlm<=1.1.0->qiskit-ibmq-provider==0.20.2->qiskit) (1.5.0)\n",
      "Requirement already satisfied: pbr!=2.1.0,>=2.0.0 in /opt/conda/lib/python3.10/site-packages (from stevedore>=3.0.0->qiskit-terra==0.24.0->qiskit) (5.11.1)\n",
      "Requirement already satisfied: mpmath>=0.19 in /opt/conda/lib/python3.10/site-packages (from sympy>=1.3->qiskit-terra==0.24.0->qiskit) (1.2.1)\n",
      "Requirement already satisfied: cffi>=1.12 in /opt/conda/lib/python3.10/site-packages (from cryptography>=1.3->requests-ntlm<=1.1.0->qiskit-ibmq-provider==0.20.2->qiskit) (1.15.1)\n",
      "Requirement already satisfied: pycparser in /opt/conda/lib/python3.10/site-packages (from cffi>=1.12->cryptography>=1.3->requests-ntlm<=1.1.0->qiskit-ibmq-provider==0.20.2->qiskit) (2.21)\n",
      "\n",
      "\u001b[1m[\u001b[0m\u001b[34;49mnotice\u001b[0m\u001b[1;39;49m]\u001b[0m\u001b[39;49m A new release of pip available: \u001b[0m\u001b[31;49m23.1.1\u001b[0m\u001b[39;49m -> \u001b[0m\u001b[32;49m23.1.2\u001b[0m\n",
      "\u001b[1m[\u001b[0m\u001b[34;49mnotice\u001b[0m\u001b[1;39;49m]\u001b[0m\u001b[39;49m To update, run: \u001b[0m\u001b[32;49mpip install --upgrade pip\u001b[0m\n"
     ]
    },
    {
     "data": {
      "application/vnd.jupyter.widget-view+json": {
       "model_id": "699c57067b6043458e5a0f1eaa31a23f",
       "version_major": 2,
       "version_minor": 0
      },
      "text/plain": [
       "Accordion(children=(VBox(layout=Layout(max_width='710px', min_width='710px')),), layout=Layout(max_height='500…"
      ]
     },
     "metadata": {},
     "output_type": "display_data"
    },
    {
     "data": {
      "application/javascript": [
       "\n",
       "        const isLab = window['Jupyter'] === undefined;\n",
       "        const notebook = document.querySelector( isLab ? 'div.jp-Notebook' : '#site');\n",
       "        const jobWidget = document.querySelector('div.job_widget');\n",
       "        notebook.prepend(jobWidget);\n",
       "        jobWidget.style.zIndex = '999';\n",
       "        jobWidget.style.position = isLab ? 'sticky' : 'fixed';\n",
       "        jobWidget.style.boxShadow = '5px 5px 5px -3px black';\n",
       "        jobWidget.style.opacity = '0.95';\n",
       "        if (isLab) {\n",
       "            jobWidget.style.top = '0';\n",
       "            jobWidget.style.left = '0';\n",
       "        }\n",
       "        "
      ],
      "text/plain": [
       "<IPython.core.display.Javascript object>"
      ]
     },
     "metadata": {},
     "output_type": "display_data"
    },
    {
     "name": "stdout",
     "output_type": "stream",
     "text": [
      "Libraries Imported Successfully!\n"
     ]
    }
   ],
   "source": [
    "#Let's import all the libraries needed for this talk\n",
    "\n",
    "#install qiskit \n",
    "!pip install qiskit\n",
    "\n",
    "#from qiskit, import all the needed libraries\n",
    "from qiskit import QuantumCircuit, Aer, transpile, assemble, execute, IBMQ\n",
    "from qiskit.visualization import plot_histogram\n",
    "from qiskit.circuit.random import random_circuit\n",
    "from qiskit.quantum_info import Statevector, partial_trace, state_fidelity\n",
    "\n",
    "from qiskit_ibm_runtime import QiskitRuntimeService, Session, Estimator, Options\n",
    "from qiskit.quantum_info import SparsePauliOp\n",
    "\n",
    "import qiskit.tools.jupyter \n",
    "%qiskit_job_watcher\n",
    "\n",
    "# Initialize the account first.\n",
    "service = QiskitRuntimeService()\n",
    "\n",
    "from qiskit.quantum_info import Statevector\n",
    "from qiskit.visualization import plot_bloch_multivector\n",
    "\n",
    "from qiskit.visualization import visualize_transition # We will use this function to run our circuit and visualize its final state\n",
    "\n",
    "import warnings  # We are using this library to suppress some warning messages\n",
    "warnings.filterwarnings(\"ignore\")\n",
    "\n",
    "from numpy.random import randint\n",
    "from random import random\n",
    "import matplotlib.pyplot as plt\n",
    "import math\n",
    "\n",
    "print(\"Libraries Imported Successfully!\")"
   ]
  },
  {
   "cell_type": "markdown",
   "metadata": {
    "id": "91NcrjqtXUG3"
   },
   "source": [
    "## Creating Simple Circuits using Qiskit"
   ]
  },
  {
   "cell_type": "markdown",
   "metadata": {
    "id": "0nDihzQTXg2G"
   },
   "source": [
    "### How to initialize a quantum circuit?"
   ]
  },
  {
   "cell_type": "code",
   "execution_count": 164,
   "metadata": {
    "id": "iahLMTqmXUQS",
    "tags": []
   },
   "outputs": [],
   "source": [
    "qc = QuantumCircuit(1) #you take one qubit initialized at 0th state\n",
    "\n",
    "#QuantumCircuit function takes one or two arguments, first being number of qubits\n",
    "# and \n",
    "#second being number of classical bits (if measurement is required!): example:\n",
    "# qc = QuantumCircuit(2,2) #2 qubit, 2 classical bit quantum circuit \n",
    "#(saved in variable qc)"
   ]
  },
  {
   "cell_type": "markdown",
   "metadata": {
    "id": "YHpKK43oYWBB"
   },
   "source": [
    "**Question #1**\n",
    "Create a quantum circuit with 3 qubits and 1 classical bit."
   ]
  },
  {
   "cell_type": "code",
   "execution_count": 165,
   "metadata": {
    "id": "u5LFTAoXYmtP"
   },
   "outputs": [],
   "source": [
    "#Write the code here"
   ]
  },
  {
   "cell_type": "markdown",
   "metadata": {
    "id": "rX22-Y9sYUCS"
   },
   "source": [
    "**Question #2**\n",
    "Create a quantum circuit with 2 qubits and 0 classical bit."
   ]
  },
  {
   "cell_type": "code",
   "execution_count": 166,
   "metadata": {
    "id": "Wl03r2bbYxIH"
   },
   "outputs": [],
   "source": [
    "#Write the code here"
   ]
  },
  {
   "cell_type": "markdown",
   "metadata": {
    "id": "VcUQSx11YOxX"
   },
   "source": [
    "## How to apply gates to a quantum circuit?\n",
    "\n",
    "If your circuit is 'qc', you want to apply 'x' gate, then:\n",
    "\n",
    "qc.x(0) #0 is the index of the qubit"
   ]
  },
  {
   "cell_type": "markdown",
   "metadata": {
    "id": "8n4yX4_taO-v"
   },
   "source": [
    "### Apply X gate"
   ]
  },
  {
   "cell_type": "code",
   "execution_count": 167,
   "metadata": {
    "colab": {
     "base_uri": "https://localhost:8080/"
    },
    "id": "jU_MxXBCZuBr",
    "outputId": "169600cb-0e41-4b9c-89c5-7ddeec4894cf"
   },
   "outputs": [
    {
     "data": {
      "text/plain": [
       "<qiskit.circuit.instructionset.InstructionSet at 0x7f87618dc1c0>"
      ]
     },
     "execution_count": 167,
     "metadata": {},
     "output_type": "execute_result"
    }
   ],
   "source": [
    "qc = QuantumCircuit(1) #only one qubit: it's zeroth qubit\n",
    "qc.x(0) #x gate applied to 0th qubit"
   ]
  },
  {
   "cell_type": "markdown",
   "metadata": {
    "id": "3mEIudyNb62y"
   },
   "source": [
    "**Question #3**\n",
    "Create a quantum circuit with 3 qubits and no classical bit, and then apply X gate to 0th qubit and 1st qubit."
   ]
  },
  {
   "cell_type": "code",
   "execution_count": 168,
   "metadata": {
    "id": "Eg3GqLv1b62z"
   },
   "outputs": [],
   "source": [
    "#write your code"
   ]
  },
  {
   "cell_type": "markdown",
   "metadata": {
    "id": "HvARyQ07aUyl"
   },
   "source": [
    "### Apply H gate"
   ]
  },
  {
   "cell_type": "code",
   "execution_count": 169,
   "metadata": {
    "colab": {
     "base_uri": "https://localhost:8080/"
    },
    "id": "lIC151j2arOC",
    "outputId": "ccd05e97-66dc-401b-e1e2-783a96433501"
   },
   "outputs": [
    {
     "data": {
      "text/plain": [
       "<qiskit.circuit.instructionset.InstructionSet at 0x7f87433e3e20>"
      ]
     },
     "execution_count": 169,
     "metadata": {},
     "output_type": "execute_result"
    }
   ],
   "source": [
    "qc = QuantumCircuit(2) #two qubits: 0 classical bits\n",
    "qc.h(1) #x gate applied to 1st qubit"
   ]
  },
  {
   "cell_type": "markdown",
   "metadata": {
    "id": "LsL9OEdWazk7"
   },
   "source": [
    "**Question #4**\n",
    "Create a quantum circuit with 3 qubits and no classical bit, and then apply X gate to 0th qubit and H gate to 1st qubit."
   ]
  },
  {
   "cell_type": "code",
   "execution_count": 170,
   "metadata": {
    "id": "KOmMV2JTazk8"
   },
   "outputs": [],
   "source": [
    "#write your code"
   ]
  },
  {
   "cell_type": "markdown",
   "metadata": {
    "id": "tjBP-HEuaaGX"
   },
   "source": [
    "### Apply Z gate"
   ]
  },
  {
   "cell_type": "code",
   "execution_count": 171,
   "metadata": {
    "colab": {
     "base_uri": "https://localhost:8080/"
    },
    "id": "D-x80OsqarfX",
    "outputId": "169600cb-0e41-4b9c-89c5-7ddeec4894cf"
   },
   "outputs": [
    {
     "data": {
      "text/plain": [
       "<qiskit.circuit.instructionset.InstructionSet at 0x7f87433e2bf0>"
      ]
     },
     "execution_count": 171,
     "metadata": {},
     "output_type": "execute_result"
    }
   ],
   "source": [
    "qc = QuantumCircuit(1) #only one qubit: it's zeroth qubit\n",
    "qc.z(0) #x gate applied to 0th qubit"
   ]
  },
  {
   "cell_type": "markdown",
   "metadata": {
    "id": "RxxhsRbTaz41"
   },
   "source": [
    "**Question #5**\n",
    "Create a quantum circuit with 3 qubits and 1 classical bit, and then apply X gate to 0th qubit and H gate to 1st qubit, and Z gate to the 2nd qubit. "
   ]
  },
  {
   "cell_type": "code",
   "execution_count": 172,
   "metadata": {
    "id": "EFwFw500az41"
   },
   "outputs": [],
   "source": [
    "#write your code"
   ]
  },
  {
   "cell_type": "markdown",
   "metadata": {
    "id": "m7MBBk79cXhq"
   },
   "source": [
    "**Question #6**\n",
    "Create a quantum circuit with 3 qubits and 1 classical bit, and then apply X gate to 0th qubit and then apply H gate to it, and finally apply Z gate to the outcome. "
   ]
  },
  {
   "cell_type": "code",
   "execution_count": 173,
   "metadata": {
    "id": "HP3It7x6cXhr"
   },
   "outputs": [],
   "source": [
    "#write your code"
   ]
  },
  {
   "cell_type": "markdown",
   "metadata": {
    "id": "mmfm4Wqsaaeq"
   },
   "source": [
    "### Apply CNOT gate\n",
    "(acts on two qubits)"
   ]
  },
  {
   "cell_type": "code",
   "execution_count": 174,
   "metadata": {
    "colab": {
     "base_uri": "https://localhost:8080/"
    },
    "id": "MD-m18A2arwy",
    "outputId": "49f5af94-5803-4415-fc36-cb147e2c94cb"
   },
   "outputs": [
    {
     "data": {
      "text/plain": [
       "<qiskit.circuit.instructionset.InstructionSet at 0x7f87433e10c0>"
      ]
     },
     "execution_count": 174,
     "metadata": {},
     "output_type": "execute_result"
    }
   ],
   "source": [
    "qc = QuantumCircuit(2) #two qubits\n",
    "qc.cx(0,1) #cx gate applied (0th qubit is the control, 1st qubit is the target)"
   ]
  },
  {
   "cell_type": "code",
   "execution_count": 175,
   "metadata": {
    "colab": {
     "base_uri": "https://localhost:8080/"
    },
    "id": "C_bxTIlYc7Fn",
    "outputId": "84a42fdd-2883-4b36-e5ce-b22df104c0b3"
   },
   "outputs": [
    {
     "data": {
      "text/plain": [
       "<qiskit.circuit.instructionset.InstructionSet at 0x7f87433e2440>"
      ]
     },
     "execution_count": 175,
     "metadata": {},
     "output_type": "execute_result"
    }
   ],
   "source": [
    "qc = QuantumCircuit(2) #two qubits\n",
    "qc.cx(1,0) #cx gate applied (1st qubit is the control, 0th qubit is the target)"
   ]
  },
  {
   "cell_type": "markdown",
   "metadata": {
    "id": "H0F_TeDha0an"
   },
   "source": [
    "**Question #7**\n",
    "Create a quantum circuit with 3 qubits and 1 classical bit, and then apply CNOT gate such that 2nd qubit is the control qubit and 1st qubit is the target qubit."
   ]
  },
  {
   "cell_type": "code",
   "execution_count": 176,
   "metadata": {
    "id": "QrviOKeddNO_"
   },
   "outputs": [],
   "source": [
    "#write your code here"
   ]
  },
  {
   "cell_type": "markdown",
   "metadata": {
    "id": "MUyteVdgdL5R"
   },
   "source": [
    "**Question #8**\n",
    "Create a quantum circuit with 3 qubits and 1 classical bit, and then apply CNOT gate such that 3rd qubit is the control qubit and 0th qubit is the target qubit."
   ]
  },
  {
   "cell_type": "code",
   "execution_count": 177,
   "metadata": {
    "id": "GwKrwWIidPK3"
   },
   "outputs": [],
   "source": [
    "#write your code here"
   ]
  },
  {
   "cell_type": "markdown",
   "metadata": {
    "id": "Di04C9qSdUTx"
   },
   "source": [
    "**Question #9**\n",
    "Create a quantum circuit with 3 qubits and 1 classical bit, and then apply X gate to the 0th qubit, and then apply CNOT gate such that 0th qubit is the control and 1st qubit is the target."
   ]
  },
  {
   "cell_type": "code",
   "execution_count": 178,
   "metadata": {
    "id": "NRUc-pOUa0ao"
   },
   "outputs": [],
   "source": [
    "#write your code here"
   ]
  },
  {
   "cell_type": "markdown",
   "metadata": {
    "id": "d2IRjgeOZgRK"
   },
   "source": [
    "### How to draw Quantum Circuit?"
   ]
  },
  {
   "cell_type": "code",
   "execution_count": 179,
   "metadata": {
    "colab": {
     "base_uri": "https://localhost:8080/",
     "height": 63
    },
    "id": "6nfLPcfHY9bi",
    "outputId": "84a906b4-aecd-41d0-cfe9-dc3a0d4ff2f6"
   },
   "outputs": [
    {
     "data": {
      "image/png": "[encoded data removed]",
      "text/plain": [
       "<Figure size 143.647x117.056 with 1 Axes>"
      ]
     },
     "execution_count": 179,
     "metadata": {},
     "output_type": "execute_result"
    }
   ],
   "source": [
    "qc = QuantumCircuit(1)\n",
    "qc.draw() #this draws the circuit"
   ]
  },
  {
   "cell_type": "code",
   "execution_count": 180,
   "metadata": {
    "colab": {
     "base_uri": "https://localhost:8080/",
     "height": 63
    },
    "id": "KXOUYwztdwfE",
    "outputId": "d06cea5a-5589-4715-c645-1fc2626604de"
   },
   "outputs": [
    {
     "data": {
      "image/png": "[encoded data removed]",
      "text/plain": [
       "<Figure size 185.453x117.056 with 1 Axes>"
      ]
     },
     "execution_count": 180,
     "metadata": {},
     "output_type": "execute_result"
    }
   ],
   "source": [
    "qc = QuantumCircuit(1)\n",
    "qc.x(0) #x gate applied to 0th qubit\n",
    "qc.draw() #this draws the circuit"
   ]
  },
  {
   "cell_type": "code",
   "execution_count": 181,
   "metadata": {
    "colab": {
     "base_uri": "https://localhost:8080/",
     "height": 94
    },
    "id": "tClQ54l6eFIQ",
    "outputId": "f3ff5710-f588-4156-8398-7233374d8cb0"
   },
   "outputs": [
    {
     "data": {
      "image/png": "[encoded data removed]",
      "text/plain": [
       "<Figure size 287.294x200.667 with 1 Axes>"
      ]
     },
     "execution_count": 181,
     "metadata": {},
     "output_type": "execute_result"
    }
   ],
   "source": [
    "qc = QuantumCircuit(2)\n",
    "qc.x(0) #x gate applied to 0th qubit\n",
    "qc.cx(0,1) #apply CNOT gate, 0th is control, 1st is target.\n",
    "qc.draw() #this draws the circuit"
   ]
  },
  {
   "cell_type": "markdown",
   "metadata": {
    "id": "1icm3BLSeJl8"
   },
   "source": [
    "**Question #10**\n",
    "Create a 3 qubit circuit with 1 classical bit, then apply x gate to 0th qubit, H gate to it and finally apply CNOT gate such that 0th qubit is the control and 2nd qubit is the target. Finally, create the circuit"
   ]
  },
  {
   "cell_type": "code",
   "execution_count": 182,
   "metadata": {
    "id": "iNb7ykVBePYV"
   },
   "outputs": [],
   "source": [
    "#write your code"
   ]
  },
  {
   "cell_type": "markdown",
   "metadata": {
    "id": "BQ_77eWUeh_Y"
   },
   "source": [
    "### How to measure the outcome in quantum circuit?\n",
    "We need a classical bit to store the measurement reasult in quantum circuit!!\n",
    "The measurement is done with QuantumCircuit().measure() function. \\\\\n",
    "It's done like:\n",
    "qc.measure(0,0) #0th qubit, 0th cbit \\\\\n",
    "or \\\\\n",
    "qc.measure([0,1],[0,1]) #qubits (0th and 1st), cbits (2 classical bits)which is equivalent to:\n",
    "qc.measure(0,0)\n",
    "qc.measure(1,1).\n",
    "\n",
    "Check this [link](https://qiskit.org/documentation/stubs/qiskit.circuit.QuantumCircuit.measure.html) for detail.\n",
    "\n",
    "**NOTE** that qc.measure_all() creates its own classical bits to store the measurement results in."
   ]
  },
  {
   "cell_type": "code",
   "execution_count": 183,
   "metadata": {
    "colab": {
     "base_uri": "https://localhost:8080/"
    },
    "id": "HxX_Q5R0fffZ",
    "outputId": "fdc4c1f3-b283-4609-b7b5-0be9a9a469a0"
   },
   "outputs": [
    {
     "data": {
      "text/plain": [
       "<qiskit.circuit.instructionset.InstructionSet at 0x7f875cd2ffa0>"
      ]
     },
     "execution_count": 183,
     "metadata": {},
     "output_type": "execute_result"
    }
   ],
   "source": [
    "qc = QuantumCircuit(1, 1) #quantum circuit with 1 qubit and 1 classical bit\n",
    "\n",
    "qc.h(0) #H gate to 0th\n",
    "\n",
    "qc.measure(0,0)\n"
   ]
  },
  {
   "cell_type": "code",
   "execution_count": 184,
   "metadata": {
    "colab": {
     "base_uri": "https://localhost:8080/",
     "height": 125
    },
    "id": "OlLhaZb6eidZ",
    "outputId": "72176c6e-6a94-4b4f-cb56-e213d2bf9bf8"
   },
   "outputs": [
    {
     "data": {
      "image/png": "[encoded data removed]",
      "text/plain": [
       "<Figure size 454.517x284.278 with 1 Axes>"
      ]
     },
     "execution_count": 184,
     "metadata": {},
     "output_type": "execute_result"
    }
   ],
   "source": [
    "qc = QuantumCircuit(2, 2) #quantum circuit with 2 qubits and 2 classical bits\n",
    "\n",
    "qc.h(0) #H gate to 0th\n",
    "qc.cx(0, 1) #CX from 0 to 1\n",
    "\n",
    "qc.measure([0, 1], [0, 1]) #measure the output\n",
    "\n",
    "qc.draw()"
   ]
  },
  {
   "cell_type": "code",
   "execution_count": 185,
   "metadata": {
    "colab": {
     "base_uri": "https://localhost:8080/",
     "height": 125
    },
    "id": "FPkMvJStgpYf",
    "outputId": "2e97246d-24b7-40d1-f8be-1ac49fadf997"
   },
   "outputs": [
    {
     "data": {
      "image/png": "[encoded data removed]",
      "text/plain": [
       "<Figure size 454.517x284.278 with 1 Axes>"
      ]
     },
     "execution_count": 185,
     "metadata": {},
     "output_type": "execute_result"
    }
   ],
   "source": [
    "qc = QuantumCircuit(2, 2) #quantum circuit with 2 qubits and 2 classical bits\n",
    "\n",
    "qc.h(0) #H gate to 0th\n",
    "qc.cx(0, 1) #CX from 0 to 1\n",
    "\n",
    "qc.measure(0,0) \n",
    "qc.measure(1,1) \n",
    "\n",
    "qc.draw()"
   ]
  },
  {
   "cell_type": "markdown",
   "metadata": {
    "id": "gkrsRUM5hoUx"
   },
   "source": []
  },
  {
   "cell_type": "markdown",
   "metadata": {
    "id": "435nyHhEheDH"
   },
   "source": [
    "**Question #11** Create a 3 qubit and 3 classical bit quantum circuit where you apply an X gate to all 3 qubits and then measure them all (DO NOT USE measur_all() here). Then draw this circuit.\n"
   ]
  },
  {
   "cell_type": "code",
   "execution_count": 186,
   "metadata": {
    "id": "ng0gdilHhpU8"
   },
   "outputs": [],
   "source": [
    "#write your code here"
   ]
  },
  {
   "cell_type": "markdown",
   "metadata": {
    "id": "GOIM9hMbhsQW"
   },
   "source": [
    "**Question #12** Create a 3 qubit and 3 classical bit quantum circuit where you apply an X gate to all 3 qubits and then measure them all. Then draw this circuit.\n"
   ]
  },
  {
   "cell_type": "code",
   "execution_count": 187,
   "metadata": {
    "id": "lSbwHggghsQX"
   },
   "outputs": [],
   "source": [
    "#write your code here"
   ]
  },
  {
   "cell_type": "markdown",
   "metadata": {
    "id": "_eGbFVq9hsZq"
   },
   "source": [
    "**Question #13** Create a 3 qubit and 3 classical bit quantum circuit where you apply an X gate to all 3 qubits and then measure them all using measure_all() function. Then draw this circuit.\n"
   ]
  },
  {
   "cell_type": "code",
   "execution_count": 188,
   "metadata": {
    "colab": {
     "base_uri": "https://localhost:8080/",
     "height": 131
    },
    "id": "-ObzTnnphsZq",
    "outputId": "91bc138d-dff3-4856-b56c-45551f28c87a"
   },
   "outputs": [
    {
     "name": "stdout",
     "output_type": "stream",
     "text": [
      "Traceback \u001b[1;36m(most recent call last)\u001b[0m:\n",
      "\u001b[1;36m  File \u001b[1;32m/opt/conda/lib/python3.10/site-packages/IPython/core/compilerop.py:86\u001b[1;36m in \u001b[1;35mast_parse\u001b[1;36m\n",
      "\u001b[1;33m    return compile(source, filename, symbol, self.flags | PyCF_ONLY_AST, 1)\u001b[1;36m\n",
      "\u001b[1;36m  Cell \u001b[1;32mIn[188], line 1\u001b[1;36m\u001b[0m\n",
      "\u001b[1;33m    qc = # COMPLETE THIS LINE\u001b[0m\n",
      "\u001b[1;37m         ^\u001b[0m\n",
      "\u001b[1;31mSyntaxError\u001b[0m\u001b[1;31m:\u001b[0m invalid syntax\n",
      "\n",
      "Use %tb to get the full traceback.\n"
     ]
    },
    {
     "data": {
      "text/html": [
       "\n",
       "<style>\n",
       ".button {\n",
       "  border: none;\n",
       "  color: white;\n",
       "  padding: 4px 8px;\n",
       "  text-align: center;\n",
       "  text-decoration: none;\n",
       "  display: inline-block;\n",
       "  font-size: 12px;\n",
       "  margin: 4px 2px;\n",
       "  transition-duration: 0.2s;\n",
       "  cursor: pointer;\n",
       "}\n",
       ".iqx-button {\n",
       "  background-color: #0f62fe; \n",
       "  color: white; \n",
       "}\n",
       ".iqx-button:hover {\n",
       "  background-color: #0043ce;\n",
       "  color: white;\n",
       "}\n",
       "</style>\n",
       "<a href=\"https://stackoverflow.com/search?q=SyntaxError: invalid syntax\" target='_blank'><button class='button iqx-button'>Search for solution online</button></a>\n"
      ],
      "text/plain": [
       "<IPython.core.display.HTML object>"
      ]
     },
     "metadata": {},
     "output_type": "display_data"
    }
   ],
   "source": [
    "qc = # COMPLETE THIS LINE\n",
    "\n",
    "qc.x([0, 1, 2])\n",
    "\n",
    "qc.measure# COMPLETE THIS LINE\n",
    "\n",
    "qc.draw()"
   ]
  },
  {
   "cell_type": "markdown",
   "metadata": {
    "id": "kTxWV-BkeimJ"
   },
   "source": [
    "### See the output\n",
    "\n",
    "We can see the output of the quantum circuit using following code."
   ]
  },
  {
   "cell_type": "code",
   "execution_count": null,
   "metadata": {
    "colab": {
     "base_uri": "https://localhost:8080/",
     "height": 125
    },
    "id": "Mm2GuhPqhBu9",
    "outputId": "395d58ed-532f-4277-d064-1179d5deef96"
   },
   "outputs": [],
   "source": [
    "qc = QuantumCircuit(2, 2) #quantum circuit with 2 qubits and 2 classical bits\n",
    "\n",
    "qc.h(0) #H gate to 0th\n",
    "qc.cx(0, 1) #CX from 0 to 1\n",
    "\n",
    "qc.measure(0,0) \n",
    "qc.measure(1,1) \n",
    "\n",
    "qc.draw()"
   ]
  },
  {
   "cell_type": "code",
   "execution_count": null,
   "metadata": {
    "colab": {
     "base_uri": "https://localhost:8080/",
     "height": 461
    },
    "id": "4cE9CFb-eiuV",
    "outputId": "e2bbbe81-ade2-4326-f14e-a1099c6f3d43"
   },
   "outputs": [],
   "source": [
    "backend = Aer.get_backend('qasm_simulator')\n",
    "job = execute(qc, backend = backend, shots = 1024)\n",
    "\n",
    "results = job.result()\n",
    "plot_histogram(results.get_counts(qc))"
   ]
  },
  {
   "cell_type": "markdown",
   "metadata": {
    "id": "scFZVQmDei2g"
   },
   "source": [
    "**Question #14**\n",
    "Re-do questions 9, 10, 11, 12, 13 to visualize the output results!"
   ]
  },
  {
   "cell_type": "code",
   "execution_count": null,
   "metadata": {
    "id": "XbtYCb37ejG3"
   },
   "outputs": [],
   "source": [
    "#question 9 #write your code"
   ]
  },
  {
   "cell_type": "code",
   "execution_count": null,
   "metadata": {
    "id": "hTb6rmROiqKs"
   },
   "outputs": [],
   "source": [
    "#question 10  #write your code"
   ]
  },
  {
   "cell_type": "code",
   "execution_count": null,
   "metadata": {
    "id": "nLrwRd15iqdX"
   },
   "outputs": [],
   "source": [
    "#question 11  #write your code"
   ]
  },
  {
   "cell_type": "code",
   "execution_count": null,
   "metadata": {
    "id": "wc5RniZriq9O"
   },
   "outputs": [],
   "source": [
    "#question 12  #write your code"
   ]
  },
  {
   "cell_type": "code",
   "execution_count": null,
   "metadata": {
    "id": "Kq2UwO_DjMSE"
   },
   "outputs": [],
   "source": [
    "#question 13 #write your code"
   ]
  },
  {
   "cell_type": "markdown",
   "metadata": {
    "id": "nWDQyHDGjOcH"
   },
   "source": [
    "### See State Vectors  in different formats: text, latex and in Bloch Sphere"
   ]
  },
  {
   "cell_type": "code",
   "execution_count": null,
   "metadata": {
    "colab": {
     "base_uri": "https://localhost:8080/"
    },
    "id": "4tqgFHu8janB",
    "outputId": "14677eb8-355e-438b-91d2-c4b418ba1e32"
   },
   "outputs": [],
   "source": [
    "qc = QuantumCircuit(1)\n",
    "\n",
    "#store the state vector of the qubit in the variable state0\n",
    "state0 = Statevector.from_instruction(qc) \n",
    "\n",
    "#draw the vector representation of the state in different formats\n",
    "\n",
    "#in text format\n",
    "state0.draw('text')"
   ]
  },
  {
   "cell_type": "code",
   "execution_count": null,
   "metadata": {
    "colab": {
     "base_uri": "https://localhost:8080/",
     "height": 37
    },
    "id": "-5EpGJVUjibx",
    "outputId": "1c8db084-9b04-4d93-da2f-03e0767e7906"
   },
   "outputs": [],
   "source": [
    "#in latex format\n",
    "state0.draw('latex')"
   ]
  },
  {
   "cell_type": "code",
   "execution_count": null,
   "metadata": {
    "colab": {
     "base_uri": "https://localhost:8080/"
    },
    "id": "GflFk7Y9jz1E",
    "outputId": "369f955c-2929-4765-dcc3-a117a7203be5"
   },
   "outputs": [],
   "source": [
    "#in Bloch Sphere representation of the state\n",
    "state0.draw('bloch')"
   ]
  },
  {
   "cell_type": "code",
   "execution_count": null,
   "metadata": {
    "colab": {
     "base_uri": "https://localhost:8080/"
    },
    "id": "PjGeQxovj9A-",
    "outputId": "0f1079e5-6e4d-4f2c-87b9-e3f172d2a02e"
   },
   "outputs": [],
   "source": [
    "#measure the state vector\n",
    "state0.measure()"
   ]
  },
  {
   "cell_type": "markdown",
   "metadata": {
    "id": "yhbtQzRxkqk8"
   },
   "source": [
    "### Visualize Transition\n",
    "\n",
    "To see how a qubits undergo changes in the Bloch Sphere, we can use visualize_transition() function builtin Qiskit. See more [here](https://qiskit.org/documentation/stubs/qiskit.visualization.visualize_transition.html), and [here](https://qiskit.org/documentation/apidoc/visualization.html/)."
   ]
  },
  {
   "cell_type": "code",
   "execution_count": null,
   "metadata": {
    "colab": {
     "base_uri": "https://localhost:8080/"
    },
    "id": "HwMENrlrkqwr",
    "outputId": "e2eef342-03e5-4102-9c9e-b2b3240080b8"
   },
   "outputs": [],
   "source": [
    "# Circuit\n",
    "qc = QuantumCircuit(1) #1 qubit and no classical bit\n",
    "\n",
    "qc.x(0)\n",
    "qc.h(0)\n",
    "\n",
    "qc.h(0)\n",
    "qc.x(0)\n",
    "\n",
    "qc.draw()\n",
    "\n",
    "visualize_transition(qc, trace = True)"
   ]
  },
  {
   "cell_type": "markdown",
   "metadata": {
    "id": "EopbcfRRn5vd"
   },
   "source": [
    "**Question#15**\n",
    "Create and draw a 3-qubit/1-classical bit circuit. Then apply X gate to the 0th qubit, then H gate to it, and apply CX gate (0 control, 1 target). Then draw circuit, do measurement, see the output measurement and visualize the transition."
   ]
  },
  {
   "cell_type": "code",
   "execution_count": null,
   "metadata": {
    "id": "JdAv_I2Wn53R"
   },
   "outputs": [],
   "source": [
    "#your code"
   ]
  },
  {
   "cell_type": "code",
   "execution_count": null,
   "metadata": {
    "id": "B5he1JECotTU"
   },
   "outputs": [],
   "source": [
    "# Simulate using QASM\n",
    "backend = Aer.get_backend('qasm_simulator')\n",
    "job = execute(qc, backend = backend, shots = 1024)  # Make sure you change \"qc\" to the name of your quantum circuit in this line!\n",
    "result = job.result()\n",
    "counts = result.get_counts()\n",
    "plot_histogram(counts)"
   ]
  },
  {
   "cell_type": "code",
   "execution_count": null,
   "metadata": {
    "id": "mQc6uze8oxAz"
   },
   "outputs": [],
   "source": [
    "#your code\n"
   ]
  },
  {
   "cell_type": "markdown",
   "metadata": {
    "id": "9QrgBXXko63f"
   },
   "source": [
    "**Question#16**\n",
    "Create and draw a 2-qubit/2-classical bit circuit in which you apply the gates listed below and measure the qubits. Run the simulator code below to see what measurements results you get.\n",
    "\n",
    "**Gates (in the order listed)**:\n",
    "\n",
    "**Z on qubit 0**\n",
    "\n",
    "**H on qubit 0**\n",
    "\n",
    "**H on qubit 1**"
   ]
  },
  {
   "cell_type": "code",
   "execution_count": null,
   "metadata": {
    "id": "uQk8vP7Fo9Mu"
   },
   "outputs": [],
   "source": [
    "#your code    "
   ]
  },
  {
   "cell_type": "code",
   "execution_count": null,
   "metadata": {
    "id": "btlQe7yAo9UV"
   },
   "outputs": [],
   "source": [
    "#your code"
   ]
  },
  {
   "cell_type": "markdown",
   "metadata": {
    "id": "D0QugarQi8eU"
   },
   "source": [
    "### Exercises\n"
   ]
  },
  {
   "cell_type": "markdown",
   "metadata": {
    "id": "-8yildcGi_0Q"
   },
   "source": [
    "**Hw#1**, create a 5 qubit/0 classical bit circuit in which qubits 0 - 2 are put in the $| + \\rangle$ state and qubits 3 - 4 are put into the $| - \\rangle$ state and then measured. Run the provided code below to simulate the circuit and verify that you have coded this correctly.\n"
   ]
  },
  {
   "cell_type": "code",
   "execution_count": null,
   "metadata": {
    "id": "tPUZPLRRkOw2"
   },
   "outputs": [],
   "source": [
    "#write your code here"
   ]
  },
  {
   "cell_type": "code",
   "execution_count": null,
   "metadata": {
    "id": "OKKSWqQXkVAj"
   },
   "outputs": [],
   "source": [
    "# Simulate using QASM\n",
    "backend = Aer.get_backend('qasm_simulator')\n",
    "job = execute(qc, backend = backend, shots = 1024)  # Make sure you change \"qc\" to the name of your quantum circuit in this line!\n",
    "result = job.result()\n",
    "counts = result.get_counts()\n",
    "plot_histogram(counts)"
   ]
  },
  {
   "cell_type": "markdown",
   "metadata": {
    "id": "bXSi2yrLmcjN"
   },
   "source": [
    "**Hw#2**\n",
    "Create and draw a 2-qubit/2-classical bit circuit with gates applied as described below. Measure both bits in the end and simulate the results using the provided code. Then run the simulation using QASM.\n",
    "\n",
    "**Gates**:\n",
    "\n",
    "H on qubit 0\n",
    "\n",
    "CX with qubit 0 as the control and qubit 1 as the target\n",
    "\n",
    "CX with qubit 1 as the control and qubit 0 as the target"
   ]
  },
  {
   "cell_type": "code",
   "execution_count": null,
   "metadata": {
    "id": "ZZT_fMoXnOTJ"
   },
   "outputs": [],
   "source": [
    "#write your code"
   ]
  },
  {
   "cell_type": "markdown",
   "metadata": {
    "id": "xq3OUEL3nQQm"
   },
   "source": [
    "Run the simulation using this:"
   ]
  },
  {
   "cell_type": "code",
   "execution_count": null,
   "metadata": {
    "id": "qrpgCjwrnOZJ"
   },
   "outputs": [],
   "source": [
    "# Simulate using QASM\n",
    "backend = Aer.get_backend('qasm_simulator')\n",
    "job = execute(qc, backend = backend, shots = 1024)  # Make sure you change \"qc\" to the name of your quantum circuit in this line!\n",
    "result = job.result()\n",
    "counts = result.get_counts()\n",
    "plot_histogram(counts)"
   ]
  },
  {
   "cell_type": "markdown",
   "metadata": {
    "id": "pWLTaTj1nDED"
   },
   "source": [
    "**Hw#3** Create and draw a 2-qubit/2-classical bit circuit with gates applied as described below. Measure both bits in the end and simulate the results using the provided code.\n",
    "\n",
    "**Gates**:\n",
    "\n",
    "H on qubit 0\n",
    "\n",
    "H on qubit 1\n",
    "\n",
    "CX with qubit 0 as the control and qubit 1 as the target\n",
    "\n",
    "H on qubit 0\n",
    "\n",
    "H on qubit 1"
   ]
  },
  {
   "cell_type": "code",
   "execution_count": null,
   "metadata": {
    "id": "yvOxCHIInW21"
   },
   "outputs": [],
   "source": [
    "#your code"
   ]
  },
  {
   "cell_type": "markdown",
   "metadata": {
    "id": "j95Ff6hAnKX0"
   },
   "source": [
    "Then run the simulation below using QASM."
   ]
  },
  {
   "cell_type": "code",
   "execution_count": null,
   "metadata": {
    "id": "ceKKSS-8nKgW"
   },
   "outputs": [],
   "source": [
    "# Simulate using QASM\n",
    "backend = Aer.get_backend('qasm_simulator')\n",
    "job = execute(qc, backend = backend, shots = 1024)  # Make sure you change \"qc\" to the name of your quantum circuit in this line!\n",
    "result = job.result()\n",
    "counts = result.get_counts()\n",
    "plot_histogram(counts)"
   ]
  },
  {
   "cell_type": "markdown",
   "metadata": {
    "id": "iAAxitWNnl9a"
   },
   "source": [
    "***Challenge#1**\n",
    "Create and draw a 5-qubit/2-classical bit quantum circuit where we apply gates as follows:\n",
    "\n",
    "Using a loop, apply H to all qubits if `superposition` is `True` and X otherwise.\n",
    "\n",
    "Then, if the variable `what_next` is the string \"Z\", apply a Z gate to every qubit using a loop.\n",
    "\n",
    "Also, run the code for different values of the variable to see this in action."
   ]
  },
  {
   "cell_type": "markdown",
   "metadata": {
    "id": "3SKzoNj0VPU3",
    "tags": []
   },
   "source": [
    "# Tutorial 2:\n",
    "\n",
    "1. Create Online Account in IBM Quantum Computing.\n",
    "\n",
    "2. You can create jupyter notebook, and also upload the notebooks!\n",
    "\n",
    "3. For now, upload the **\"Weekly Series - Hands-on QC Tutorial-II.ipynb\"** into any of those platforms (choose the good one! - based on your device, internet and interest).\n",
    "\n",
    "Now, let's start going through the tutorial, doing the work in real time!\n",
    "\n"
   ]
  },
  {
   "cell_type": "markdown",
   "metadata": {
    "id": "3SKzoNj0VPU3",
    "tags": []
   },
   "source": [
    "## Backends: Simulators and Real Quantum Computers \n",
    "\n",
    "**A backend represents either a simulator or a real quantum computer and are responsible for running quantum circuits, running pulse schedules, and returning results.**\n",
    "\n",
    "Steps:\n",
    "\n",
    "1. Create Online Account in IBM Quantum Computing.\n",
    "\n",
    "2. You can create jupyter notebook, and also upload the notebooks!\n",
    "\n",
    "3. For now, upload the **\"Weekly Series - Hands-on QC Tutorial-II.ipynb\"** into any of those platforms (choose the good one! - based on your device, internet and interest).circuit = QuantumCircuit(2,2)\n",
    "\n",
    "circuit.h(0)\n",
    "\n",
    "circuit.cx(0,1)\n",
    "\n",
    "circuit.measure(qr,cr)\n",
    "\n",
    "print(circuit)\n"
   ]
  },
  {
   "cell_type": "code",
   "execution_count": null,
   "metadata": {
    "tags": []
   },
   "outputs": [],
   "source": [
    "qc = QuantumCircuit(2,2)\n",
    "\n",
    "qc.h(0)\n",
    "\n",
    "qc.cx(0,1)\n",
    "\n",
    "qc.measure([0,1],[0,1])\n",
    "\n",
    "qc.draw()"
   ]
  },
  {
   "cell_type": "markdown",
   "metadata": {
    "id": "3SKzoNj0VPU3",
    "tags": []
   },
   "source": [
    "So far we have used Simulators. \n",
    "\n",
    "**For now, let's see the real quantum hardwares available:**"
   ]
  },
  {
   "cell_type": "code",
   "execution_count": 210,
   "metadata": {
    "tags": []
   },
   "outputs": [
    {
     "data": {
      "text/plain": [
       "[<IBMBackend('ibmq_qasm_simulator')>,\n",
       " <IBMBackend('ibmq_lima')>,\n",
       " <IBMBackend('ibmq_belem')>,\n",
       " <IBMBackend('ibmq_quito')>,\n",
       " <IBMBackend('simulator_statevector')>,\n",
       " <IBMBackend('simulator_mps')>,\n",
       " <IBMBackend('simulator_extended_stabilizer')>,\n",
       " <IBMBackend('simulator_stabilizer')>,\n",
       " <IBMBackend('ibmq_jakarta')>,\n",
       " <IBMBackend('ibmq_manila')>,\n",
       " <IBMBackend('ibm_lagos')>,\n",
       " <IBMBackend('ibm_nairobi')>,\n",
       " <IBMBackend('ibm_perth')>]"
      ]
     },
     "execution_count": 210,
     "metadata": {},
     "output_type": "execute_result"
    }
   ],
   "source": [
    "from qiskit_ibm_runtime import QiskitRuntimeService\n",
    "\n",
    "# Initialize the account first.\n",
    "service = QiskitRuntimeService()\n",
    "\n",
    "service.backends()"
   ]
  },
  {
   "cell_type": "markdown",
   "metadata": {
    "id": "3SKzoNj0VPU3",
    "tags": []
   },
   "source": [
    "The following code loads the account, specifies which computer we want to use and run it."
   ]
  },
  {
   "cell_type": "code",
   "execution_count": 208,
   "metadata": {
    "tags": []
   },
   "outputs": [
    {
     "name": "stdout",
     "output_type": "stream",
     "text": [
      "Backend Name:  ibm_perth\n",
      "Version:  1.2.6\n",
      "Simulator:  False\n",
      "Number of Qubits =  7\n"
     ]
    }
   ],
   "source": [
    "backend = service.backend(\"ibm_perth\")\n",
    "print(\"Backend Name: \",backend.name) #returns the backend's name\n",
    "print(\"Version: \", backend.backend_version) #returns the version number\n",
    "print(\"Simulator: \",backend.simulator) #returns True or False, depending on whether it is a simulator\n",
    "print(\"Number of Qubits = \", backend.num_qubits) #returns the number of qubits the backend has"
   ]
  },
  {
   "cell_type": "markdown",
   "metadata": {
    "id": "3SKzoNj0VPU3",
    "tags": []
   },
   "source": [
    "**Let's submit a job to the real quantum computer:**\n",
    "\n",
    "Follow this:\n",
    "https://qiskit.org/documentation/partners/qiskit_ibm_runtime/index.html"
   ]
  },
  {
   "cell_type": "code",
   "execution_count": 211,
   "metadata": {
    "tags": []
   },
   "outputs": [
    {
     "name": "stdout",
     "output_type": "stream",
     "text": [
      "Traceback \u001b[1;36m(most recent call last)\u001b[0m:\n",
      "\u001b[0m  Cell \u001b[0;32mIn[211], line 2\u001b[0m\n",
      "    IBMQ.load_account()\u001b[0m\n",
      "\u001b[0m  File \u001b[0;32m/opt/conda/lib/python3.10/site-packages/qiskit/providers/ibmq/ibmqfactory.py:191\u001b[0m in \u001b[0;35mload_account\u001b[0m\n",
      "    self._initialize_providers(credentials, preferences)\u001b[0m\n",
      "\u001b[0m  File \u001b[0;32m/opt/conda/lib/python3.10/site-packages/qiskit/providers/ibmq/ibmqfactory.py:456\u001b[0m in \u001b[0;35m_initialize_providers\u001b[0m\n",
      "    auth_client = AuthClient(credentials.token,\u001b[0m\n",
      "\u001b[0m  File \u001b[0;32m/opt/conda/lib/python3.10/site-packages/qiskit/providers/ibmq/api/clients/auth.py:41\u001b[0m in \u001b[0;35m__init__\u001b[0m\n",
      "    self.base_api = self._init_service_clients(**request_kwargs)\u001b[0m\n",
      "\u001b[0m  File \u001b[0;32m/opt/conda/lib/python3.10/site-packages/qiskit/providers/ibmq/api/clients/auth.py:53\u001b[0m in \u001b[0;35m_init_service_clients\u001b[0m\n",
      "    access_token = self._request_access_token()\u001b[0m\n",
      "\u001b[0m  File \u001b[0;32m/opt/conda/lib/python3.10/site-packages/qiskit/providers/ibmq/api/clients/auth.py:75\u001b[0m in \u001b[0;35m_request_access_token\u001b[0m\n",
      "    response = self.auth_api.login(self.api_token)\u001b[0m\n",
      "\u001b[0m  File \u001b[0;32m/opt/conda/lib/python3.10/site-packages/qiskit/providers/ibmq/api/rest/root.py:125\u001b[0m in \u001b[0;35mlogin\u001b[0m\n",
      "    return self.session.post(url, json={'apiToken': api_token}).json()\u001b[0m\n",
      "\u001b[0m  File \u001b[0;32m/opt/conda/lib/python3.10/site-packages/requests/sessions.py:635\u001b[0m in \u001b[0;35mpost\u001b[0m\n",
      "    return self.request(\"POST\", url, data=data, json=json, **kwargs)\u001b[0m\n",
      "\u001b[1;36m  File \u001b[1;32m/opt/conda/lib/python3.10/site-packages/qiskit/providers/ibmq/api/session.py:300\u001b[1;36m in \u001b[1;35mrequest\u001b[1;36m\n",
      "\u001b[1;33m    raise RequestsApiError(message, status_code) from ex\u001b[1;36m\n",
      "\u001b[1;31mRequestsApiError\u001b[0m\u001b[1;31m:\u001b[0m '401 Client Error: Unauthorized for url: https://auth.quantum-computing.ibm.com/api/users/loginWithToken. Login failed., Error code: 3446.'\n",
      "\n",
      "Use %tb to get the full traceback.\n"
     ]
    },
    {
     "data": {
      "text/html": [
       "\n",
       "<style>\n",
       ".button {\n",
       "  border: none;\n",
       "  color: white;\n",
       "  padding: 4px 8px;\n",
       "  text-align: center;\n",
       "  text-decoration: none;\n",
       "  display: inline-block;\n",
       "  font-size: 12px;\n",
       "  margin: 4px 2px;\n",
       "  transition-duration: 0.2s;\n",
       "  cursor: pointer;\n",
       "}\n",
       ".iqx-button {\n",
       "  background-color: #0f62fe; \n",
       "  color: white; \n",
       "}\n",
       ".iqx-button:hover {\n",
       "  background-color: #0043ce;\n",
       "  color: white;\n",
       "}\n",
       "</style>\n",
       "<a href=\"https://stackoverflow.com/search?q=RequestsApiError: 401 Client Error: Unauthorized for url: https://auth.quantum-computing.ibm.com/api/users/loginWithToken. Login failed., Error code: 3446.\" target='_blank'><button class='button iqx-button'>Search for solution online</button></a>\n"
      ],
      "text/plain": [
       "<IPython.core.display.HTML object>"
      ]
     },
     "metadata": {},
     "output_type": "display_data"
    }
   ],
   "source": [
    "# Load IBM Quantum account\n",
    "IBMQ.load_account()\n",
    "provider = IBMQ.get_provider(hub = 'ibm-q')\n",
    "\n",
    "# Get backend object for IBM Perth\n",
    "backend = provider.get_backend('ibmq_lima')"
   ]
  },
  {
   "cell_type": "code",
   "execution_count": 212,
   "metadata": {
    "tags": []
   },
   "outputs": [
    {
     "data": {
      "image/png": "[encoded data removed]",
      "text/plain": [
       "<Figure size 454.517x284.278 with 1 Axes>"
      ]
     },
     "execution_count": 212,
     "metadata": {},
     "output_type": "execute_result"
    }
   ],
   "source": [
    "# Create quantum circuit\n",
    "qc = QuantumCircuit(2, 2)\n",
    "qc.h(0)\n",
    "qc.cx(0, 1)\n",
    "qc.measure([0, 1], [0, 1])\n",
    "qc.draw()"
   ]
  },
  {
   "cell_type": "code",
   "execution_count": 213,
   "metadata": {
    "tags": []
   },
   "outputs": [
    {
     "name": "stdout",
     "output_type": "stream",
     "text": [
      "Traceback \u001b[1;36m(most recent call last)\u001b[0m:\n",
      "\u001b[0m  Cell \u001b[0;32mIn[213], line 2\u001b[0m\n",
      "    job = execute(qc, backend=backend, shots = 1024)\u001b[0m\n",
      "\u001b[0m  File \u001b[0;32m/opt/conda/lib/python3.10/site-packages/qiskit/utils/deprecation.py:182\u001b[0m in \u001b[0;35mwrapper\u001b[0m\n",
      "    return func(*args, **kwargs)\u001b[0m\n",
      "\u001b[0m  File \u001b[0;32m/opt/conda/lib/python3.10/site-packages/qiskit/utils/deprecation.py:182\u001b[0m in \u001b[0;35mwrapper\u001b[0m\n",
      "    return func(*args, **kwargs)\u001b[0m\n",
      "\u001b[0m  File \u001b[0;32m/opt/conda/lib/python3.10/site-packages/qiskit/execute_function.py:356\u001b[0m in \u001b[0;35mexecute\u001b[0m\n",
      "    job = backend.run(experiments, **run_kwargs)\u001b[0m\n",
      "\u001b[1;36m  File \u001b[1;32m/opt/conda/lib/python3.10/site-packages/qiskit_ibm_runtime/ibm_backend.py:485\u001b[1;36m in \u001b[1;35mrun\u001b[1;36m\n",
      "\u001b[1;33m    raise RuntimeError(\u001b[1;36m\n",
      "\u001b[1;31mRuntimeError\u001b[0m\u001b[1;31m:\u001b[0m IBMBackend.run() is not supported in the Qiskit Runtime environment.\n",
      "\n",
      "Use %tb to get the full traceback.\n"
     ]
    },
    {
     "data": {
      "text/html": [
       "\n",
       "<style>\n",
       ".button {\n",
       "  border: none;\n",
       "  color: white;\n",
       "  padding: 4px 8px;\n",
       "  text-align: center;\n",
       "  text-decoration: none;\n",
       "  display: inline-block;\n",
       "  font-size: 12px;\n",
       "  margin: 4px 2px;\n",
       "  transition-duration: 0.2s;\n",
       "  cursor: pointer;\n",
       "}\n",
       ".iqx-button {\n",
       "  background-color: #0f62fe; \n",
       "  color: white; \n",
       "}\n",
       ".iqx-button:hover {\n",
       "  background-color: #0043ce;\n",
       "  color: white;\n",
       "}\n",
       "</style>\n",
       "<a href=\"https://stackoverflow.com/search?q=RuntimeError: IBMBackend.run() is not supported in the Qiskit Runtime environment.\" target='_blank'><button class='button iqx-button'>Search for solution online</button></a>\n"
      ],
      "text/plain": [
       "<IPython.core.display.HTML object>"
      ]
     },
     "metadata": {},
     "output_type": "display_data"
    }
   ],
   "source": [
    "# Submit job to IBM backend\n",
    "job = execute(qc, backend=backend, shots = 1024)"
   ]
  },
  {
   "cell_type": "code",
   "execution_count": 217,
   "metadata": {
    "tags": []
   },
   "outputs": [
    {
     "name": "stdout",
     "output_type": "stream",
     "text": [
      "Job Status: job has successfully run\n",
      "40380639-0de5-468d-9283-747b91224289\n"
     ]
    },
    {
     "data": {
      "text/plain": [
       "<JobStatus.DONE: 'job has successfully run'>"
      ]
     },
     "execution_count": 217,
     "metadata": {},
     "output_type": "execute_result"
    }
   ],
   "source": [
    "#monitor the job\n",
    "job_monitor(job)\n",
    "\n",
    "#print job id\n",
    "print(job.job_id())\n",
    "\n",
    "#wait until the final state\n",
    "job.wait_for_final_state()\n",
    "\n",
    "#check status of the job\n",
    "job.status()"
   ]
  },
  {
   "cell_type": "code",
   "execution_count": 215,
   "metadata": {
    "tags": []
   },
   "outputs": [
    {
     "name": "stdout",
     "output_type": "stream",
     "text": [
      "{'11': 545, '00': 479}\n"
     ]
    },
    {
     "data": {
      "image/png": "[encoded data removed]",
      "text/plain": [
       "<Figure size 700x500 with 1 Axes>"
      ]
     },
     "execution_count": 215,
     "metadata": {},
     "output_type": "execute_result"
    }
   ],
   "source": [
    "# Get and plot the results\n",
    "result = job.result()\n",
    "counts = result.get_counts()\n",
    "print(counts)\n",
    "plot_histogram(counts)"
   ]
  },
  {
   "cell_type": "markdown",
   "metadata": {
    "id": "dssAhnVhkVmJ"
   },
   "source": [
    "\n",
    "---\n",
    "© qubitnepal.com, All rights reserved."
   ]
  }
 ],
 "metadata": {
  "colab": {
   "collapsed_sections": [
    "hI9LO7Gte0-4"
   ],
   "provenance": []
  },
  "kernelspec": {
   "display_name": "Python 3 (ipykernel)",
   "language": "python",
   "name": "python3"
  },
  "language_info": {
   "codemirror_mode": {
    "name": "ipython",
    "version": 3
   },
   "file_extension": ".py",
   "mimetype": "text/x-python",
   "name": "python",
   "nbconvert_exporter": "python",
   "pygments_lexer": "ipython3",
   "version": "3.10.8"
  },
  "widgets": {
   "application/vnd.jupyter.widget-state+json": {
    "state": {},
    "version_major": 2,
    "version_minor": 0
   }
  }
 },
 "nbformat": 4,
 "nbformat_minor": 4
}
